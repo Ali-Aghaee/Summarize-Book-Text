{
 "cells": [
  {
   "cell_type": "markdown",
   "metadata": {},
   "source": [
    "خواندن فایل‌های گوگل درایو"
   ]
  },
  {
   "cell_type": "code",
   "execution_count": null,
   "metadata": {
    "colab": {
     "base_uri": "https://localhost:8080/"
    },
    "executionInfo": {
     "elapsed": 21403,
     "status": "ok",
     "timestamp": 1726209460307,
     "user": {
      "displayName": "Mr ee",
      "userId": "11634915441614249450"
     },
     "user_tz": -210
    },
    "id": "s5aC68XSuTaT",
    "outputId": "492bfe0c-410d-423f-86b4-864d69d74a37"
   },
   "outputs": [],
   "source": [
    "from google.colab import drive\n",
    "drive.mount('/content/drive')"
   ]
  },
  {
   "cell_type": "code",
   "execution_count": 5,
   "metadata": {
    "executionInfo": {
     "elapsed": 18268,
     "status": "ok",
     "timestamp": 1726209478572,
     "user": {
      "displayName": "Mr ee",
      "userId": "11634915441614249450"
     },
     "user_tz": -210
    },
    "id": "AP74BVgauWyc",
    "scrolled": true
   },
   "outputs": [
    {
     "name": "stderr",
     "output_type": "stream",
     "text": [
      "C:\\Users\\Pentium\\AppData\\Local\\Programs\\Python\\Python310\\lib\\site-packages\\tqdm\\auto.py:21: TqdmWarning: IProgress not found. Please update jupyter and ipywidgets. See https://ipywidgets.readthedocs.io/en/stable/user_install.html\n",
      "  from .autonotebook import tqdm as notebook_tqdm\n"
     ]
    }
   ],
   "source": [
    "import re\n",
    "import spacy\n",
    "from spacy import displacy\n",
    "import json\n",
    "import pandas as pd\n",
    "from transformers import pipeline\n",
    "import matplotlib.pyplot as plt"
   ]
  },
  {
   "cell_type": "markdown",
   "metadata": {},
   "source": [
    "باز کردن و خواندن فایل اصلی پروژه\n",
    "\n",
    "به دلیل وجود بعضی از عبارات و حروف خوانده نمی شود utf-8\n",
    "\n",
    "خوانده شود. زیرا در این صورت تمام کلمات و حروف غربی خوانده می شوند latin-1 بهتر است فایل به صورت "
   ]
  },
  {
   "cell_type": "code",
   "execution_count": 3,
   "metadata": {
    "executionInfo": {
     "elapsed": 1866,
     "status": "ok",
     "timestamp": 1726209480436,
     "user": {
      "displayName": "Mr ee",
      "userId": "11634915441614249450"
     },
     "user_tz": -210
    },
    "id": "WBTVyEf6u4hx"
   },
   "outputs": [],
   "source": [
    "with open('./content/drive/booksummaries.txt', encoding='latin-1') as f:\n",
    "  text = f.read()"
   ]
  },
  {
   "cell_type": "markdown",
   "metadata": {},
   "source": [
    "در ابتدا تمامی قسمت هایی که دارای مقادیر نامعتبر و نادرست هستند را به عبارت های مناسب جایگزین می کنیم\n",
    "\n",
    "برای جایگزینی هر کدام از عبارت ها، داخل متن اصلی جست و جو شده و با توجه به مفهوم و موقعیت متن جایگزین مناسب انتخاب شده است\n",
    "\n",
    "با عبارت ' قابل جایگزاری بودند \\x19 برای مثال تمامی "
   ]
  },
  {
   "cell_type": "code",
   "execution_count": 6,
   "metadata": {
    "executionInfo": {
     "elapsed": 2104,
     "status": "ok",
     "timestamp": 1726209482536,
     "user": {
      "displayName": "Mr ee",
      "userId": "11634915441614249450"
     },
     "user_tz": -210
    },
    "id": "yNoRR3VlOohB"
   },
   "outputs": [],
   "source": [
    "text = re.sub(r'\\x19', \"'\", text)\n",
    "text = re.sub(r'\\x1c', '', text)\n",
    "text = re.sub(r'\\x13', '-', text)\n",
    "text = re.sub(r'\\x01', 'a', text) #a` حرف\n",
    "text = re.sub(r'\\x18', '\"', text)\n",
    "text = re.sub(r'\\x0e', '', text) #حروف خاص مثل عربی و ژاپنی\n",
    "text = re.sub(r'\\x0f', '', text) # حروف خاص مثل d` و ...\n",
    "text = re.sub(r'\\x08', '', text)\n",
    "text = re.sub(r'\\x14', '-', text)\n",
    "text = re.sub(r'\\x05', '', text)\n",
    "text = re.sub(r'\\x02', '', text)\n",
    "text = re.sub(r'\\x03', 'ă', text)\n",
    "text = re.sub(r'\\x07', 'ć', text)\n",
    "text = re.sub(r'\\x15', '', text)"
   ]
  },
  {
   "cell_type": "markdown",
   "metadata": {},
   "source": [
    "از آنجا که تمامی کتاب ها با الگوی زیر شروع می شودند:\n",
    "عدد + \\t + /m/ حرف و عدد + \\t\n",
    "\n",
    "بر اساس این الگو شروع کتاب ها را شناسایی می کنیم و آنها را از هم جدا می کنیم"
   ]
  },
  {
   "cell_type": "code",
   "execution_count": 7,
   "metadata": {
    "executionInfo": {
     "elapsed": 489,
     "status": "ok",
     "timestamp": 1726209485210,
     "user": {
      "displayName": "Mr ee",
      "userId": "11634915441614249450"
     },
     "user_tz": -210
    },
    "id": "i8ODkUHvvOzd"
   },
   "outputs": [],
   "source": [
    "books = re.split(r'\\d+\\t/m/\\w+\\t', text)"
   ]
  },
  {
   "cell_type": "markdown",
   "metadata": {},
   "source": [
    "ساخته و هر کتاب را در سطر آن قرار می دهیم datafram یک  pandas پس از جدا سازی کتاب ها، ، با استفاده از کتابخانه \n",
    "\n",
    "در هر سطر چهار قسمت نام کتاب، نام نویسنده، تاریخ انتشار و متن کتاب را بر اساس فاصله(تب) از هم جدا کرده و در ستون های مربوطه قرار می دهیم\n",
    "\n",
    "قرار داده می شود Unknown اگر مقداری برای هر کدام از داده ها وجود نداشته باشد به جای آن عبارت "
   ]
  },
  {
   "cell_type": "code",
   "execution_count": 8,
   "metadata": {
    "executionInfo": {
     "elapsed": 3,
     "status": "ok",
     "timestamp": 1726209486467,
     "user": {
      "displayName": "Mr ee",
      "userId": "11634915441614249450"
     },
     "user_tz": -210
    },
    "id": "XsNz-02lHdM9"
   },
   "outputs": [],
   "source": [
    "  def extract_info(text):\n",
    "    parts = text.split('\\t',4)\n",
    "    book_title = parts[0] if parts[0] else \"Unknown\"\n",
    "    author = parts[1] if parts[1] else \"Unknown\"\n",
    "    publication_date = parts[2] if parts[2] else \"Unknown\"\n",
    "    genres = parts[3] if parts[3] else \"Unknown\"\n",
    "    book_text = parts[4]\n",
    "\n",
    "    return {\n",
    "        \"Book Title\": book_title,\n",
    "        \"Author\": author,\n",
    "        \"Publication Date\": publication_date,\n",
    "        \"Genres\": genres,\n",
    "        \"Book Text\": book_text\n",
    "    }\n",
    "l = []\n",
    "del books[0]\n",
    "for book in books:\n",
    "    l.append(extract_info(book))\n",
    "df = pd.DataFrame(l)\n"
   ]
  },
  {
   "cell_type": "markdown",
   "metadata": {},
   "source": [
    "بررسی و پردازش کتاب ها بسیار آسان تر می شود dataframe با استفاده از"
   ]
  },
  {
   "cell_type": "code",
   "execution_count": null,
   "metadata": {
    "colab": {
     "base_uri": "https://localhost:8080/",
     "height": 242
    },
    "executionInfo": {
     "elapsed": 442,
     "status": "ok",
     "timestamp": 1725919189415,
     "user": {
      "displayName": "Mr ee",
      "userId": "11634915441614249450"
     },
     "user_tz": -210
    },
    "id": "4IjCsJbLDIxU",
    "outputId": "cd789577-b700-4319-f9b9-2b3f4d54d864",
    "scrolled": true
   },
   "outputs": [],
   "source": [
    "df[df['Book Title'] == '¡Que viva la música!']"
   ]
  },
  {
   "cell_type": "markdown",
   "metadata": {},
   "source": [
    "اولین مرحله برای خلاصه سازی متن کتاب ها، بررسی و اصلاح متن کتاب ها است. به گونه ای که مقادیر نامعتبر حذف یا جایگزین شوند تا فرایند خلاصه سازی بهتر صورت پذیرد"
   ]
  },
  {
   "cell_type": "markdown",
   "metadata": {
    "colab": {
     "base_uri": "https://localhost:8080/"
    },
    "executionInfo": {
     "elapsed": 1797,
     "status": "ok",
     "timestamp": 1725919308944,
     "user": {
      "displayName": "Mr ee",
      "userId": "11634915441614249450"
     },
     "user_tz": -210
    },
    "id": "yudBNCfBkp8O",
    "outputId": "1526d48d-dbe7-429e-ae6b-e2b7587d5ac8"
   },
   "source": [
    "پس از بررسی فراوان متن کتاب ها. عبارات و قسمت هایی که موجب اختلال در متن کتاب می شدند پیدا کرده و آنها را اصلاح کردم"
   ]
  },
  {
   "cell_type": "markdown",
   "metadata": {},
   "source": [
    "در تابع زیر که برای تمامی متن کتاب ها اجرا می شود:\n",
    "\n",
    "را حذف کرده تا متن یک دست داشته باشیم \\n ابتدا تمام تب ها و\n",
    "\n",
    "سپس تمامی عباراتی که در متن اضافه هستند را حذف می کنیم\n",
    "\n",
    "در متن تعدادی لینک وجود دارد که آنها را نیز حذف می کنیم\n",
    "\n",
    "در جمله آخر بعضی از متن ها کلماتی به زبان های دیگر وجود داشت. در ابتدای این کلمات دو حرف وجود داشت که زبان را نشان می داد. تمامی این زبان ها را شناسایی کرده و از متن حذف کردم\n",
    "\n",
    "در انتها نیز فاصله های بیش از یکی را تبدیل به یک فاصله کرده ام"
   ]
  },
  {
   "cell_type": "code",
   "execution_count": 9,
   "metadata": {
    "executionInfo": {
     "elapsed": 7351,
     "status": "ok",
     "timestamp": 1726209495974,
     "user": {
      "displayName": "Mr ee",
      "userId": "11634915441614249450"
     },
     "user_tz": -210
    },
    "id": "4PcoaGUIim1T"
   },
   "outputs": [],
   "source": [
    "def data_cleaner(book_text):\n",
    "  # book_text = row['Book Text']\n",
    "\n",
    "\n",
    "\n",
    "  book_text = re.sub(r'\\t',' ', book_text)\n",
    "  book_text = re.sub(r'\\n', ' ', book_text)\n",
    "\n",
    "  book_text = re.sub(r'\\[','', book_text)\n",
    "  book_text = re.sub(r'\\]','', book_text)\n",
    "  book_text = re.sub(r'\\{.*?\\}','', book_text)\n",
    "  book_text = re.sub(r'\\([^\\)]*\\)','', book_text)\n",
    "\n",
    "  book_text = re.sub(r'https?://[^\\s]*', ' ', book_text) #delete links\n",
    "  book_text = re.sub(r' ar:.*','', book_text) #delete other languages\n",
    "  book_text = re.sub(r' bg:.*','', book_text)\n",
    "  book_text = re.sub(r' bn:.*','', book_text)\n",
    "  book_text = re.sub(r' ca:.*','', book_text)\n",
    "  book_text = re.sub(r' cs:.*','', book_text)\n",
    "  book_text = re.sub(r' cy:.*','', book_text)\n",
    "  book_text = re.sub(r' de:.*','', book_text)\n",
    "  book_text = re.sub(r' eo:.*','', book_text)\n",
    "  book_text = re.sub(r' es:.*','', book_text)\n",
    "  book_text = re.sub(r' et:.*','', book_text)\n",
    "  book_text = re.sub(r' eu:.*','', book_text)\n",
    "  book_text = re.sub(r' eu:.*','', book_text)\n",
    "  book_text = re.sub(r' fa:.*','', book_text)\n",
    "  book_text = re.sub(r' fi:.*','', book_text)\n",
    "  book_text = re.sub(r' fr:.*','', book_text)\n",
    "  book_text = re.sub(r' ga:.*','', book_text)\n",
    "  book_text = re.sub(r' gl:.*','', book_text)\n",
    "  book_text = re.sub(r' gv:.*','', book_text)\n",
    "  book_text = re.sub(r' he:.*','', book_text)\n",
    "  book_text = re.sub(r' hi:.*','', book_text)\n",
    "  book_text = re.sub(r' hr:.*','', book_text)\n",
    "  book_text = re.sub(r' hu:.*','', book_text)\n",
    "  book_text = re.sub(r' ja:.*','', book_text)\n",
    "  book_text = re.sub(r' ka:.*','', book_text)\n",
    "  book_text = re.sub(r' ko:.*','', book_text)\n",
    "  book_text = re.sub(r' lt:.*','', book_text)\n",
    "  book_text = re.sub(r' ms:.*','', book_text)\n",
    "  book_text = re.sub(r' ne:.*','', book_text)\n",
    "  book_text = re.sub(r' nl:.*','', book_text)\n",
    "  book_text = re.sub(r' no:.*','', book_text)\n",
    "  book_text = re.sub(r' no:.*','', book_text)\n",
    "  book_text = re.sub(r' pa:.*','', book_text)\n",
    "  book_text = re.sub(r' pl:.*','', book_text)\n",
    "  book_text = re.sub(r' pt:.*','', book_text)\n",
    "  book_text = re.sub(r' ro:.*','', book_text)\n",
    "  book_text = re.sub(r' ru:.*','', book_text)\n",
    "  book_text = re.sub(r' sk:.*','', book_text)\n",
    "  book_text = re.sub(r' sr:.*','', book_text)\n",
    "  book_text = re.sub(r' sv:.*','', book_text)\n",
    "  book_text = re.sub(r' ta:.*','', book_text)\n",
    "  book_text = re.sub(r' te:.*','', book_text)\n",
    "  book_text = re.sub(r' th:.*','', book_text)\n",
    "  book_text = re.sub(r' tl:.*','', book_text)\n",
    "  book_text = re.sub(r' tr:.*','', book_text)\n",
    "  book_text = re.sub(r' uk:.*','', book_text)\n",
    "  book_text = re.sub(r' vi:.*','', book_text)\n",
    "  book_text = re.sub(r' zh:.*','', book_text)\n",
    "  book_text = re.sub(r' Ad:.*','', book_text)\n",
    "\n",
    "  book_text = re.sub(r' {2,}', ' ', book_text) #delete 2 or more spaces\n",
    "\n",
    "  return book_text\n",
    "\n",
    "df['Book Text'] = df['Book Text'].apply(data_cleaner)# put clean book text in dataframe for each row "
   ]
  },
  {
   "cell_type": "markdown",
   "metadata": {},
   "source": [
    "سپس نیاز است تا تمام کتاب ها با طول متن کمتر از 200 حذف شوند. زیرا این متن ها داده خراب هستند"
   ]
  },
  {
   "cell_type": "code",
   "execution_count": null,
   "metadata": {},
   "outputs": [],
   "source": [
    "df = df[df['Book Text'].str.len() > 200]"
   ]
  },
  {
   "cell_type": "markdown",
   "metadata": {},
   "source": [
    "spacy بارگزاری مدل زبان انگلیسی از کتابخانه "
   ]
  },
  {
   "cell_type": "code",
   "execution_count": null,
   "metadata": {},
   "outputs": [],
   "source": [
    "nlp = spacy.load('en_core_web_sm')"
   ]
  },
  {
   "cell_type": "markdown",
   "metadata": {},
   "source": [
    "پس از تمیز کردن متن کتاب ها نوبت به خلاصه سازی آنها می رسد\n",
    "\n",
    "استفاده شده است facebook/bart-large-cnn برای خلاصه سازی از مدل \n",
    "\n",
    "در تابع زیر برای هر کتاب خلاصه ایجاد می شود و سپس در ستون خلاصه آن کتاب قرار می گیرد\n",
    "\n",
    "در این فرایند در صورتی که طول متن از مقدار مشخصی بیشتر باشد، متن بر اساس جمله بخش بندی می شود و خلاصه هر بخش گرفته می شود. در انتها اگر همچنان طول متن تولید شده بزرگ باشد، دوبار خلاصه تولید می شود\n",
    "\n",
    "طول متن خلاصه شده توسط این روش حدود 200 تا 400 است"
   ]
  },
  {
   "cell_type": "code",
   "execution_count": null,
   "metadata": {
    "colab": {
     "base_uri": "https://localhost:8080/",
     "height": 1000,
     "referenced_widgets": [
      "e5704807a07e45c280ccf840283cb203",
      "4612c111966341039fbd5f1b201b489b",
      "21fe9ae5276e48b48c7baad87dbfcb2f",
      "fa769b5fc9bd4ad889b1b1be7ce9782d",
      "706bf3d155b84134aa8bc234b46f040d",
      "44b6d19daf1840dc9616cdbb846c823c",
      "ed227755d8a6407d985aa484f578a7cf",
      "9d775fc5b2c8451c9f144db66f04b379",
      "9ec192c22a1f42b5805a7056a7db4b9c",
      "7bee7c8107c44d5481e34b7f7fe06e57",
      "9677ddc915ee40cea88d06bdc4318930",
      "77ecb3306a444f7ebbc7d63082aac7ae",
      "e7134bfbb2de4af08fa0f4c84f8599b6",
      "20ddc92af2fd4b7fa3bc7c12f6283f26",
      "426b0c58879d47c9a796ddab1255668d",
      "36c044f795044dae9074f538a70ce155",
      "cbfbce3468f4495e8d71939f1649018a",
      "dc4205e9b2dc4f4db07c5028d25ed3a1",
      "847a7955f2034e2dbb7da6db928a8120",
      "c613ce9edf6c4acc9d82df387984f775",
      "d9994bd9c38845668fc6e350996b7800",
      "e72b5324fcc046f78235de5e1d586ee3",
      "a70d1cc0143447da8f6f0b2b5f643f8e",
      "760ebc3582744da888e7997e70dcf9fc",
      "bd4ddbe788644239a571687dc49a885a",
      "13811e4aed2f404485d5a9c1c0e8f977",
      "0d9e56d789ca45569de685dd84708465",
      "cb8aef947cc449beaee578daf8ac4f53",
      "457625ae906740ac999f0f7412d75a49",
      "d858569cd8e948808dd3a53146e8e6e3",
      "f5833336c38e4ead938ed02ea4533bc8",
      "09a68f07fdb549d9a3860024573e93ae",
      "4d3c9a98699f4ab58f3f52336afc3cbe",
      "ff47a036dbb14f4398bb53fb0d0988f5",
      "453e93d40d4a40f0beb084b1a43f585d",
      "556835131de640eba2c2103ae985869b",
      "955a077468af4f77ac17cb885b06cdae",
      "b995a1a5a3544e09a46d4d7f04ed0f73",
      "1a9dcfbb74e34d81a858ae8bb71bf155",
      "e3ea407379c148479ec44004152e4548",
      "925a55664e114cf79d21d316bbdba9d1",
      "c2e554eb47f546168a20bb3c97f99557",
      "290e3f2c5a7a4addb93f7434eb94058e",
      "3abf8e7be5e34a10887fe7d3d6bd5761",
      "63e1fefc86144e4983dff38741f062f4",
      "87330ad34c4e4d0993d9a6ae33892dc2",
      "3eeb76e9de8140f9978b3708c65131b7",
      "0b44a279ab534881a30e65666e07802b",
      "37102e2d616540b68e25353890e902b2",
      "9512067af94641459f95b12be6010158",
      "bdec30b1402647419094a28c8fc3608d",
      "7399ff29c98f42eaa72bb627b831ebd3",
      "8f15a63994b4404ba55eb3cebca1d182",
      "fca2484e1abb4ac2b1edae99d2588c84",
      "1debffea1c47436793075a91d6c63fbd",
      "2b469942ed614ca6836f74975b564647",
      "a4ed7313a2c04771a9574c664b8391fb",
      "96fc439a7bdc494593526a38eeced0be",
      "c5a7cf3a1775412089e20f0121254180",
      "b259585e738e46b3802d1d196aad5f46",
      "db1a8c9d21c049398557052e760ea6fb",
      "5abd9dbaf2ff4fdc8230e71ccc1fa326",
      "9886175f3940417fada43328983122f3",
      "0ceb91f653ab40d482bbe3887bb1b41e",
      "cbd2917aaad6479184583e40045f4018",
      "415869dcdbfc4b059c4a33f8ffed1e4b"
     ]
    },
    "id": "3a_yl4ypJbYi",
    "outputId": "54fb66be-9ebc-489f-93d0-e607422ef04d",
    "scrolled": true
   },
   "outputs": [],
   "source": [
    "summarizer = pipeline(\"summarization\", model=\"facebook/bart-large-cnn\",device=0)#device=0 means using GPU\n",
    "\n",
    "def split_text_by_sentences(text, chunk_size=5):\n",
    "    doc = nlp(text)\n",
    "    sentences = [sent.text for sent in doc.sents]\n",
    "    chunks = [' '.join(sentences[i:i + chunk_size]) for i in range(0, len(sentences), chunk_size)]\n",
    "    return chunks\n",
    "\n",
    "def summarize_long_text(text):\n",
    "    chunks = split_text_by_sentences(text)\n",
    "    max_length = 50\n",
    "    min_length = 10\n",
    "    summaries = [summarizer(chunk, max_length=max_length,min_length=min_length,do_sample=False)[0]['summary_text'] for chunk in chunks]\n",
    "    final_summary = ' '.join(summaries)\n",
    "    while len(final_summary) >= 4500:\n",
    "      final_summary = summarize_long_text(final_summary)\n",
    "    if len(final_summary) >= 400:\n",
    "      final_summary = summarizer(final_summary, max_length=100,do_sample=False)[0]['summary_text']\n",
    "    return final_summary\n",
    "\n",
    "def summarize_text(text):\n",
    "    # اطمینان از اینکه متن خالی نیست\n",
    "    if not text.strip():\n",
    "        return ''\n",
    "\n",
    "    text_length = len(text)\n",
    "\n",
    "    if text_length >=4500:\n",
    "      s = summarize_long_text(text)\n",
    "    else:\n",
    "      s = summarizer(text, max_length =200 , do_sample=False)[0]['summary_text']\n",
    "    return s\n",
    "\n",
    "\n",
    "df['Summary'] = df['Book Text'].apply(summarize_text,axis =1)"
   ]
  },
  {
   "cell_type": "markdown",
   "metadata": {},
   "source": [
    "در این بخش ایست کلمات خلاصه هر کتاب حذف شده و در ستون مربوط به خود قرار می گیرد"
   ]
  },
  {
   "cell_type": "code",
   "execution_count": null,
   "metadata": {
    "colab": {
     "base_uri": "https://localhost:8080/"
    },
    "executionInfo": {
     "elapsed": 440,
     "status": "ok",
     "timestamp": 1726177449198,
     "user": {
      "displayName": "Ali Aghaee",
      "userId": "06623461891480497278"
     },
     "user_tz": -210
    },
    "id": "jmU_2ohZWBbq",
    "outputId": "1f77cc84-8dfe-49c1-c6bc-49791c4a5889"
   },
   "outputs": [],
   "source": [
    "def remove_stop_words(text):\n",
    "    doc = nlp(text)\n",
    "    filtered_tokens = [token.text for token in doc if not token.is_stop]\n",
    "    stop_words = ' '.join(filtered_tokens)\n",
    "    return stop_words\n",
    "    \n",
    "df['Remove Stop_words'] = df['Summary'].apply(remove_stop_words,axis = 1) "
   ]
  },
  {
   "cell_type": "markdown",
   "metadata": {},
   "source": [
    "سپس نوبت به ساخت عکس از خلاصه کتاب ها می رسد \n",
    "\n",
    "برای ساخت عکس استفاده می کنم Stable Diffusion از مدل \n",
    "\n",
    "منتقل می شود GPU در این قسمت مدل براگزاری می شود. همچنان مدل را به"
   ]
  },
  {
   "cell_type": "code",
   "execution_count": null,
   "metadata": {
    "colab": {
     "base_uri": "https://localhost:8080/",
     "height": 981,
     "referenced_widgets": [
      "47859eb556aa4a03ae00d1c762d8100b",
      "3f376e931bd14c678e8a6247f085ff85",
      "f423b1669a7c4b8d85cb356780024b99",
      "b8b7ae1bd9f6492082521a001cb9c784",
      "4690b1f530004d82858ed3ab8a40d0b4",
      "733a8e2558bd4b4c82478c518b4232ee",
      "5a92b38467f042338c7a4438609e4b15",
      "fe2815e7996d41fbb3e991d2a000e322",
      "9928a1158ebd4cf2a4de95f2c9e19b90",
      "01d614746ae94433aef25e282f7d1607",
      "d2126a6f15ed43b8b22f774c2dca2dee"
     ]
    },
    "executionInfo": {
     "elapsed": 5164,
     "status": "error",
     "timestamp": 1726178671504,
     "user": {
      "displayName": "Ali Aghaee",
      "userId": "06623461891480497278"
     },
     "user_tz": -210
    },
    "id": "AV37qKbWSNgu",
    "outputId": "2d8a96fc-0554-4e3e-81b0-38d82f57fb90"
   },
   "outputs": [],
   "source": [
    "!pip install diffusers transformers accelerate\n",
    "\n",
    "from diffusers import StableDiffusionPipeline\n",
    "import torch\n",
    "\n",
    "#loading with GPU\n",
    "pipe = StableDiffusionPipeline.from_pretrained(\"CompVis/stable-diffusion-v1-4\").to(\"cuda\")\n"
   ]
  },
  {
   "cell_type": "markdown",
   "metadata": {},
   "source": [
    "در این قسمت متن خلاصه شده بدون ایست کلمه به عکس تبدیل می شود\n",
    "\n",
    "در این پروژه به دلیل کمبود امکاناب سخت افزاری تنها 10000 کتاب خلاصه شده و عکس 1000 از آنها آماده شده است"
   ]
  },
  {
   "cell_type": "code",
   "execution_count": null,
   "metadata": {
    "colab": {
     "base_uri": "https://localhost:8080/",
     "height": 315
    },
    "executionInfo": {
     "elapsed": 542,
     "status": "error",
     "timestamp": 1726178449460,
     "user": {
      "displayName": "Ali Aghaee",
      "userId": "06623461891480497278"
     },
     "user_tz": -210
    },
    "id": "D5TXElhXrUfs",
    "outputId": "62193779-611e-49ca-b486-22947f820867"
   },
   "outputs": [],
   "source": [
    "def generate_image_from_text(row,text, output_path):\n",
    "    text = row['Remove Stop_words']\n",
    "    \n",
    "    # make image from text\n",
    "    image = pipe(text).images[0]\n",
    "\n",
    "    output_path = f'./image/{row['Book Title']}.png'\n",
    "    # save image\n",
    "    image.save(output_path)\n",
    "    print('image saved')\n",
    "\n",
    "df.apply(generate_image_from_text)\n"
   ]
  },
  {
   "cell_type": "markdown",
   "metadata": {
    "id": "3IdG5k6XbpaF"
   },
   "source": [
    "# اصلاح اسم کتاب و نویسنده و ژانر"
   ]
  },
  {
   "cell_type": "markdown",
   "metadata": {},
   "source": [
    "در این قسمت عبارات و حروف مخرب در نام کتاب اصلاح می شود"
   ]
  },
  {
   "cell_type": "code",
   "execution_count": 25,
   "metadata": {
    "id": "ZGl-J5rjcNwc"
   },
   "outputs": [],
   "source": [
    "def title_cleaner(title):\n",
    "  title = re.sub(r'[\\$\\~\\\\]','', title)\n",
    "  title = re.sub(r'.hack//','', title)\n",
    "  title = re.sub(r'\u001f','P', title)\n",
    "  title = re.sub(r'\\n',' ', title)\n",
    "  title = re.sub(r' {2,}',' ', title)\n",
    "  return title\n",
    "\n",
    "df['Book Title'] = df['Book Title'].apply(title_cleaner)"
   ]
  },
  {
   "cell_type": "markdown",
   "metadata": {},
   "source": [
    "هستند اصلاح شده و از حالت نامناسب اولیه خود، به لیستی از ژانرها تبدیل می شود json در این بخش ژانر کتاب ها که به صورت"
   ]
  },
  {
   "cell_type": "code",
   "execution_count": 26,
   "metadata": {
    "id": "W7TQ4oUAfO4M"
   },
   "outputs": [],
   "source": [
    "def genres_cleaner(genres):\n",
    "  if genres != 'Unknown':\n",
    "    genres = json.loads(genres)\n",
    "    return list(genres.values())\n",
    "  else:\n",
    "    return 'Unknown'\n",
    "\n",
    "df['Genres'] = df['Genres'].apply(genres_cleaner)"
   ]
  },
  {
   "cell_type": "markdown",
   "metadata": {},
   "source": [
    "در این بخش عبارات و حروف نامناسب برای نام نویسنده شناسایی شده و اصلاح می گردد"
   ]
  },
  {
   "cell_type": "code",
   "execution_count": 27,
   "metadata": {
    "id": "IYdwUeTmQW_J"
   },
   "outputs": [],
   "source": [
    "def author_cleaner(author):\n",
    "  author = re.sub(r'\\n',' ', author)\n",
    "  author = re.sub(r'[!]','.', author)\n",
    "  author = re.sub(r'\\+','', author)\n",
    "  author = re.sub(r', \\d+.*','', author)\n",
    "  author = re.sub(r'»','', author)\n",
    "  author = re.sub(r' \"\\w+\"','', author)\n",
    "  author = re.sub(r'\\x10','D', author)\n",
    "  author = re.sub(r'\\x0c','', author)\n",
    "  author = re.sub(r'\\x1f','g', author)\n",
    "  author = re.sub(r'\\[','s', author)\n",
    "  author = re.sub(r' \\([^)]*\\)','', author)\n",
    "  author = re.sub(r'\\)','', author)\n",
    "  return author\n",
    "\n",
    "df['Author'] = df['Author'].apply(author_cleaner)"
   ]
  },
  {
   "cell_type": "markdown",
   "metadata": {
    "id": "CGp0RZf0QFTk"
   },
   "source": [
    "# **بخش آماری**"
   ]
  },
  {
   "cell_type": "code",
   "execution_count": 18,
   "metadata": {},
   "outputs": [],
   "source": [
    "from collections import Counter"
   ]
  },
  {
   "cell_type": "markdown",
   "metadata": {},
   "source": [
    "در این بخش تعداد متن ها با طول کمتر از 200 نشان داده می شود که در واقع برای فرایند خلاصه سازی خذف می شوند"
   ]
  },
  {
   "cell_type": "code",
   "execution_count": 16,
   "metadata": {
    "colab": {
     "base_uri": "https://localhost:8080/"
    },
    "executionInfo": {
     "elapsed": 2980,
     "status": "ok",
     "timestamp": 1726076978390,
     "user": {
      "displayName": "Mr ee",
      "userId": "11634915441614249450"
     },
     "user_tz": -210
    },
    "id": "kfOl1ePd74YQ",
    "outputId": "de285975-6385-4851-c447-f374615cc6aa",
    "scrolled": true
   },
   "outputs": [
    {
     "name": "stdout",
     "output_type": "stream",
     "text": [
      "Books with length less than 200: 553\n"
     ]
    }
   ],
   "source": [
    "length_counts = {}\n",
    "for index, row in df.iterrows():\n",
    "    text = row['Book Text']\n",
    "    length = len(text)\n",
    "    if length in length_counts:\n",
    "        length_counts[length] += 1\n",
    "    else:\n",
    "        length_counts[length] = 1\n",
    "sorted_dict = {key: length_counts[key] for key in sorted(length_counts)}\n",
    "sum_values = sum(value for key, value in sorted_dict.items() if key <= 200)\n",
    "print('Books with length less than 200:',sum_values)\n",
    "\n"
   ]
  },
  {
   "cell_type": "markdown",
   "metadata": {},
   "source": [
    "نمودارتعداد کتاب با طول مشخص شده "
   ]
  },
  {
   "cell_type": "code",
   "execution_count": 17,
   "metadata": {},
   "outputs": [
    {
     "data": {
      "image/png": "[encoded data removed]",
      "text/plain": [
       "<Figure size 640x480 with 1 Axes>"
      ]
     },
     "metadata": {},
     "output_type": "display_data"
    }
   ],
   "source": [
    "# Extract keys and values\n",
    "keys = list(length_counts.keys())\n",
    "values = list(length_counts.values())\n",
    "\n",
    "# Create the bar plot\n",
    "plt.bar(keys, values)\n",
    "plt.xlim(0, 1000)\n",
    "# Add labels and title\n",
    "plt.xlabel('len')\n",
    "plt.ylabel('number')\n",
    "plt.show()"
   ]
  },
  {
   "cell_type": "markdown",
   "metadata": {},
   "source": [
    "تعداد کل کتاب ها"
   ]
  },
  {
   "cell_type": "code",
   "execution_count": 20,
   "metadata": {},
   "outputs": [
    {
     "data": {
      "text/plain": [
       "16559"
      ]
     },
     "execution_count": 20,
     "metadata": {},
     "output_type": "execute_result"
    }
   ],
   "source": [
    "len(df)"
   ]
  },
  {
   "cell_type": "markdown",
   "metadata": {
    "id": "9r6wEpgg3wgp"
   },
   "source": [
    "تعداد مقادیر خالی در هر ستون"
   ]
  },
  {
   "cell_type": "code",
   "execution_count": 28,
   "metadata": {
    "colab": {
     "base_uri": "https://localhost:8080/"
    },
    "executionInfo": {
     "elapsed": 5824,
     "status": "ok",
     "timestamp": 1726156187859,
     "user": {
      "displayName": "Ali Aghaee",
      "userId": "06623461891480497278"
     },
     "user_tz": -210
    },
    "id": "lch1W4Hw2kKO",
    "outputId": "82cfc670-96bb-4d47-e39e-2f9ed31c3912"
   },
   "outputs": [
    {
     "name": "stdout",
     "output_type": "stream",
     "text": [
      "Unknown values for Book Title : 0\n",
      "Unknown values for Author : 2382\n",
      "Unknown values for Publication Date : 5610\n",
      "Unknown values for Genres : 3718\n",
      "Unknown values for Book Text : 0\n"
     ]
    }
   ],
   "source": [
    "for column in df.columns:\n",
    "  unknown_count = len([1 for _ , row in df.iterrows() if row[column] == 'Unknown'])\n",
    "  print(f'Unknown values for {column} : {unknown_count}')"
   ]
  },
  {
   "cell_type": "markdown",
   "metadata": {
    "id": "gVMl8OE3KcWP"
   },
   "source": [
    "تعداد ژانرهای یکتا موجود"
   ]
  },
  {
   "cell_type": "code",
   "execution_count": 29,
   "metadata": {
    "colab": {
     "base_uri": "https://localhost:8080/"
    },
    "executionInfo": {
     "elapsed": 840,
     "status": "ok",
     "timestamp": 1726163356950,
     "user": {
      "displayName": "Ali Aghaee",
      "userId": "06623461891480497278"
     },
     "user_tz": -210
    },
    "id": "sxGSQJRB8vbb",
    "outputId": "9839ba44-d5b9-4ba0-dbd8-df33a326bbfc"
   },
   "outputs": [
    {
     "name": "stdout",
     "output_type": "stream",
     "text": [
      "Unique values for Genres : 227\n"
     ]
    }
   ],
   "source": [
    "df_genres_filtered = df[df['Genres'] != 'Unknown']\n",
    "all_genres = [genre  for _ , row in df_genres_filtered.iterrows() for genre in row['Genres']]\n",
    "unique_genres = set(all_genres)\n",
    "print(f'Unique values for Genres : {len(unique_genres)}')"
   ]
  },
  {
   "cell_type": "markdown",
   "metadata": {
    "id": "eqRNlkBiVFjh"
   },
   "source": [
    "تعداد مقادیر یکتا برای ستون نام کتاب و نویسنده"
   ]
  },
  {
   "cell_type": "code",
   "execution_count": 30,
   "metadata": {
    "colab": {
     "base_uri": "https://localhost:8080/"
    },
    "executionInfo": {
     "elapsed": 387,
     "status": "ok",
     "timestamp": 1726161879041,
     "user": {
      "displayName": "Ali Aghaee",
      "userId": "06623461891480497278"
     },
     "user_tz": -210
    },
    "id": "1UepCRElNzuF",
    "outputId": "115d70c9-5886-4838-fa82-9ad93979ea96"
   },
   "outputs": [
    {
     "name": "stdout",
     "output_type": "stream",
     "text": [
      "Unique values for Book Title : 16277\n",
      "Unique values for Author : 4714\n"
     ]
    }
   ],
   "source": [
    "for column in ['Book Title' , 'Author']:\n",
    "  df_filtered = df[df[column] != 'Unknown']\n",
    "  unique_data = df_filtered[column].unique()\n",
    "  unique_data_count = len(unique_data)\n",
    "  print(f'Unique values for {column} : {unique_data_count}')\n"
   ]
  },
  {
   "cell_type": "markdown",
   "metadata": {
    "id": "Jzw_BhSr4OxV"
   },
   "source": [
    "ژانر هایی که هر نویسنده نوشته است"
   ]
  },
  {
   "cell_type": "code",
   "execution_count": 31,
   "metadata": {
    "colab": {
     "base_uri": "https://localhost:8080/",
     "height": 687
    },
    "executionInfo": {
     "elapsed": 5,
     "status": "ok",
     "timestamp": 1726163870114,
     "user": {
      "displayName": "Ali Aghaee",
      "userId": "06623461891480497278"
     },
     "user_tz": -210
    },
    "id": "KCPR-dAC4Xk3",
    "outputId": "f8be2108-300d-4723-a86c-c9ff351ec075"
   },
   "outputs": [
    {
     "data": {
      "text/html": [
       "<div>\n",
       "<style scoped>\n",
       "    .dataframe tbody tr th:only-of-type {\n",
       "        vertical-align: middle;\n",
       "    }\n",
       "\n",
       "    .dataframe tbody tr th {\n",
       "        vertical-align: top;\n",
       "    }\n",
       "\n",
       "    .dataframe thead th {\n",
       "        text-align: right;\n",
       "    }\n",
       "</style>\n",
       "<table border=\"1\" class=\"dataframe\">\n",
       "  <thead>\n",
       "    <tr style=\"text-align: right;\">\n",
       "      <th></th>\n",
       "      <th>Author</th>\n",
       "      <th>All_Genres</th>\n",
       "    </tr>\n",
       "  </thead>\n",
       "  <tbody>\n",
       "    <tr>\n",
       "      <th>0</th>\n",
       "      <td>'Asta Bowen</td>\n",
       "      <td>{'Young adult literature': 1}</td>\n",
       "    </tr>\n",
       "    <tr>\n",
       "      <th>1</th>\n",
       "      <td>A. A. Attanasio</td>\n",
       "      <td>{'Science Fiction': 2, 'Speculative fiction': 2}</td>\n",
       "    </tr>\n",
       "    <tr>\n",
       "      <th>2</th>\n",
       "      <td>A. A. Milne</td>\n",
       "      <td>{'Mystery': 1, 'Fiction': 1, 'Suspense': 1, 'C...</td>\n",
       "    </tr>\n",
       "    <tr>\n",
       "      <th>3</th>\n",
       "      <td>A. E. W. Mason</td>\n",
       "      <td>{'Adventure novel': 1, 'Mystery': 1, 'Detectiv...</td>\n",
       "    </tr>\n",
       "    <tr>\n",
       "      <th>4</th>\n",
       "      <td>A. E. van Vogt</td>\n",
       "      <td>{'Science Fiction': 11, 'Speculative fiction':...</td>\n",
       "    </tr>\n",
       "    <tr>\n",
       "      <th>...</th>\n",
       "      <td>...</td>\n",
       "      <td>...</td>\n",
       "    </tr>\n",
       "    <tr>\n",
       "      <th>3857</th>\n",
       "      <td>Åke Edwardson</td>\n",
       "      <td>{'Crime Fiction': 1}</td>\n",
       "    </tr>\n",
       "    <tr>\n",
       "      <th>3858</th>\n",
       "      <td>Åsne Seierstad</td>\n",
       "      <td>{'Non-fiction': 1}</td>\n",
       "    </tr>\n",
       "    <tr>\n",
       "      <th>3859</th>\n",
       "      <td>Élisabeth Vonarburg</td>\n",
       "      <td>{'Science Fiction': 1}</td>\n",
       "    </tr>\n",
       "    <tr>\n",
       "      <th>3860</th>\n",
       "      <td>Émile Gaboriau</td>\n",
       "      <td>{'Detective fiction': 1}</td>\n",
       "    </tr>\n",
       "    <tr>\n",
       "      <th>3861</th>\n",
       "      <td>Émile Zola</td>\n",
       "      <td>{'Novel': 12, 'Psychology': 1, 'Psychological ...</td>\n",
       "    </tr>\n",
       "  </tbody>\n",
       "</table>\n",
       "<p>3862 rows × 2 columns</p>\n",
       "</div>"
      ],
      "text/plain": [
       "                   Author                                         All_Genres\n",
       "0             'Asta Bowen                      {'Young adult literature': 1}\n",
       "1         A. A. Attanasio   {'Science Fiction': 2, 'Speculative fiction': 2}\n",
       "2             A. A. Milne  {'Mystery': 1, 'Fiction': 1, 'Suspense': 1, 'C...\n",
       "3          A. E. W. Mason  {'Adventure novel': 1, 'Mystery': 1, 'Detectiv...\n",
       "4          A. E. van Vogt  {'Science Fiction': 11, 'Speculative fiction':...\n",
       "...                   ...                                                ...\n",
       "3857        Åke Edwardson                               {'Crime Fiction': 1}\n",
       "3858       Åsne Seierstad                                 {'Non-fiction': 1}\n",
       "3859  Élisabeth Vonarburg                             {'Science Fiction': 1}\n",
       "3860       Émile Gaboriau                           {'Detective fiction': 1}\n",
       "3861           Émile Zola  {'Novel': 12, 'Psychology': 1, 'Psychological ...\n",
       "\n",
       "[3862 rows x 2 columns]"
      ]
     },
     "execution_count": 31,
     "metadata": {},
     "output_type": "execute_result"
    }
   ],
   "source": [
    "df_filtered = df[(df['Genres'] != 'Unknown') & (df['Author'] != 'Unknown')]\n",
    "author_genres = df_filtered.groupby('Author')['Genres'].apply(lambda x: list([genre for sublist in x for genre in sublist])).reset_index()\n",
    "author_genres.columns = ['Author', 'All_Genres']\n",
    "author_genres['All_Genres'] = author_genres['All_Genres'].apply(lambda x : dict(Counter(x)))\n",
    "author_genres"
   ]
  },
  {
   "cell_type": "markdown",
   "metadata": {},
   "source": [
    "هر نویسنده از چه ژانری بیشتر نوشته است"
   ]
  },
  {
   "cell_type": "code",
   "execution_count": 35,
   "metadata": {
    "id": "09PP1fjN8jjr"
   },
   "outputs": [
    {
     "data": {
      "text/html": [
       "<div>\n",
       "<style scoped>\n",
       "    .dataframe tbody tr th:only-of-type {\n",
       "        vertical-align: middle;\n",
       "    }\n",
       "\n",
       "    .dataframe tbody tr th {\n",
       "        vertical-align: top;\n",
       "    }\n",
       "\n",
       "    .dataframe thead th {\n",
       "        text-align: right;\n",
       "    }\n",
       "</style>\n",
       "<table border=\"1\" class=\"dataframe\">\n",
       "  <thead>\n",
       "    <tr style=\"text-align: right;\">\n",
       "      <th></th>\n",
       "      <th>Author</th>\n",
       "      <th>All_Genres</th>\n",
       "      <th>Most_Genres</th>\n",
       "    </tr>\n",
       "  </thead>\n",
       "  <tbody>\n",
       "    <tr>\n",
       "      <th>0</th>\n",
       "      <td>'Asta Bowen</td>\n",
       "      <td>{'Young adult literature': 1}</td>\n",
       "      <td>[Young adult literature]</td>\n",
       "    </tr>\n",
       "    <tr>\n",
       "      <th>1</th>\n",
       "      <td>A. A. Attanasio</td>\n",
       "      <td>{'Science Fiction': 2, 'Speculative fiction': 2}</td>\n",
       "      <td>[Science Fiction, Speculative fiction]</td>\n",
       "    </tr>\n",
       "    <tr>\n",
       "      <th>2</th>\n",
       "      <td>A. A. Milne</td>\n",
       "      <td>{'Mystery': 1, 'Fiction': 1, 'Suspense': 1, 'C...</td>\n",
       "      <td>[Mystery, Fiction, Suspense, Children's litera...</td>\n",
       "    </tr>\n",
       "    <tr>\n",
       "      <th>3</th>\n",
       "      <td>A. E. W. Mason</td>\n",
       "      <td>{'Adventure novel': 1, 'Mystery': 1, 'Detectiv...</td>\n",
       "      <td>[Adventure novel, Mystery, Detective fiction]</td>\n",
       "    </tr>\n",
       "    <tr>\n",
       "      <th>4</th>\n",
       "      <td>A. E. van Vogt</td>\n",
       "      <td>{'Science Fiction': 11, 'Speculative fiction':...</td>\n",
       "      <td>[Science Fiction]</td>\n",
       "    </tr>\n",
       "    <tr>\n",
       "      <th>...</th>\n",
       "      <td>...</td>\n",
       "      <td>...</td>\n",
       "      <td>...</td>\n",
       "    </tr>\n",
       "    <tr>\n",
       "      <th>3857</th>\n",
       "      <td>Åke Edwardson</td>\n",
       "      <td>{'Crime Fiction': 1}</td>\n",
       "      <td>[Crime Fiction]</td>\n",
       "    </tr>\n",
       "    <tr>\n",
       "      <th>3858</th>\n",
       "      <td>Åsne Seierstad</td>\n",
       "      <td>{'Non-fiction': 1}</td>\n",
       "      <td>[Non-fiction]</td>\n",
       "    </tr>\n",
       "    <tr>\n",
       "      <th>3859</th>\n",
       "      <td>Élisabeth Vonarburg</td>\n",
       "      <td>{'Science Fiction': 1}</td>\n",
       "      <td>[Science Fiction]</td>\n",
       "    </tr>\n",
       "    <tr>\n",
       "      <th>3860</th>\n",
       "      <td>Émile Gaboriau</td>\n",
       "      <td>{'Detective fiction': 1}</td>\n",
       "      <td>[Detective fiction]</td>\n",
       "    </tr>\n",
       "    <tr>\n",
       "      <th>3861</th>\n",
       "      <td>Émile Zola</td>\n",
       "      <td>{'Novel': 12, 'Psychology': 1, 'Psychological ...</td>\n",
       "      <td>[Novel]</td>\n",
       "    </tr>\n",
       "  </tbody>\n",
       "</table>\n",
       "<p>3862 rows × 3 columns</p>\n",
       "</div>"
      ],
      "text/plain": [
       "                   Author                                         All_Genres  \\\n",
       "0             'Asta Bowen                      {'Young adult literature': 1}   \n",
       "1         A. A. Attanasio   {'Science Fiction': 2, 'Speculative fiction': 2}   \n",
       "2             A. A. Milne  {'Mystery': 1, 'Fiction': 1, 'Suspense': 1, 'C...   \n",
       "3          A. E. W. Mason  {'Adventure novel': 1, 'Mystery': 1, 'Detectiv...   \n",
       "4          A. E. van Vogt  {'Science Fiction': 11, 'Speculative fiction':...   \n",
       "...                   ...                                                ...   \n",
       "3857        Åke Edwardson                               {'Crime Fiction': 1}   \n",
       "3858       Åsne Seierstad                                 {'Non-fiction': 1}   \n",
       "3859  Élisabeth Vonarburg                             {'Science Fiction': 1}   \n",
       "3860       Émile Gaboriau                           {'Detective fiction': 1}   \n",
       "3861           Émile Zola  {'Novel': 12, 'Psychology': 1, 'Psychological ...   \n",
       "\n",
       "                                            Most_Genres  \n",
       "0                              [Young adult literature]  \n",
       "1                [Science Fiction, Speculative fiction]  \n",
       "2     [Mystery, Fiction, Suspense, Children's litera...  \n",
       "3         [Adventure novel, Mystery, Detective fiction]  \n",
       "4                                     [Science Fiction]  \n",
       "...                                                 ...  \n",
       "3857                                    [Crime Fiction]  \n",
       "3858                                      [Non-fiction]  \n",
       "3859                                  [Science Fiction]  \n",
       "3860                                [Detective fiction]  \n",
       "3861                                            [Novel]  \n",
       "\n",
       "[3862 rows x 3 columns]"
      ]
     },
     "execution_count": 35,
     "metadata": {},
     "output_type": "execute_result"
    }
   ],
   "source": [
    "def most_genres(genres):\n",
    "  counter = Counter(genres)\n",
    "  max_count = max(counter.values())\n",
    "  most_common_elements = [elem for elem, count in counter.items() if count == max_count]\n",
    "  return most_common_elements\n",
    "\n",
    "author_genres['Most_Genres'] = author_genres['All_Genres'].apply(most_genres)\n",
    "author_genres"
   ]
  },
  {
   "cell_type": "markdown",
   "metadata": {
    "colab": {
     "base_uri": "https://localhost:8080/",
     "height": 528
    },
    "executionInfo": {
     "elapsed": 543,
     "status": "ok",
     "timestamp": 1726164857849,
     "user": {
      "displayName": "Ali Aghaee",
      "userId": "06623461891480497278"
     },
     "user_tz": -210
    },
    "id": "Xz45XWgybsGV",
    "outputId": "d47f7374-0fa3-4ccc-b3e9-12566ae88da4",
    "scrolled": true
   },
   "source": [
    "بیشترین و کمترین ژانر استفاده شده"
   ]
  },
  {
   "cell_type": "code",
   "execution_count": 37,
   "metadata": {},
   "outputs": [
    {
     "name": "stdout",
     "output_type": "stream",
     "text": [
      "most used genres : Fiction, repeated 4747 times\n",
      "least used genres : Computer Science, repeated 1 times\n"
     ]
    }
   ],
   "source": [
    "counter = Counter(all_genres)\n",
    "max_count = max(counter.values())\n",
    "min_count = min(counter.values())\n",
    "most_repeated = max(counter, key=counter.get)\n",
    "least_repeated = min(counter, key=counter.get)\n",
    "print(f'most used genres : {most_repeated}, repeated {max_count} times')\n",
    "print(f'least used genres : {least_repeated}, repeated {min_count} times')"
   ]
  },
  {
   "cell_type": "markdown",
   "metadata": {},
   "source": [
    "نموداری از تعداد دفعات استفاده از ژانز ها"
   ]
  },
  {
   "cell_type": "code",
   "execution_count": 38,
   "metadata": {},
   "outputs": [
    {
     "data": {
      "image/png": "[encoded data removed]",
      "text/plain": [
       "<Figure size 640x480 with 1 Axes>"
      ]
     },
     "metadata": {},
     "output_type": "display_data"
    }
   ],
   "source": [
    "items = list(counter.keys())\n",
    "counts = list(counter.values())\n",
    "\n",
    "plt.bar(items, counts)\n",
    "plt.xlabel('genre')\n",
    "plt.ylabel('repeated')\n",
    "plt.title('how many time does each genre repeated')\n",
    "plt.xticks([])\n",
    "plt.show()"
   ]
  },
  {
   "cell_type": "markdown",
   "metadata": {},
   "source": [
    "کتاب نویسنده بیشترین کتاب را نوشتند"
   ]
  },
  {
   "cell_type": "code",
   "execution_count": 40,
   "metadata": {},
   "outputs": [
    {
     "name": "stdout",
     "output_type": "stream",
     "text": [
      "most is Agatha Christie with 74 books\n",
      "least is Arthur Laurents with 1 books\n"
     ]
    }
   ],
   "source": [
    "counter = Counter(df[df['Author'] != 'Unknown']['Author'])\n",
    "max_count = max(counter.values())\n",
    "min_count = min(counter.values())\n",
    "most_repeated = max(counter, key=counter.get)\n",
    "least_repeated = min(counter, key=counter.get)\n",
    "print(f'most is {most_repeated} with {max_count} books')\n",
    "print(f'least is {least_repeated} with {min_count} books')"
   ]
  },
  {
   "cell_type": "markdown",
   "metadata": {},
   "source": [
    "نمودار تعداد کتاب هر نویسنده"
   ]
  },
  {
   "cell_type": "code",
   "execution_count": 41,
   "metadata": {
    "scrolled": true
   },
   "outputs": [
    {
     "data": {
      "image/png": "[encoded data removed]",
      "text/plain": [
       "<Figure size 640x480 with 1 Axes>"
      ]
     },
     "metadata": {},
     "output_type": "display_data"
    }
   ],
   "source": [
    "items = list(counter.keys())\n",
    "counts = list(counter.values())\n",
    "\n",
    "plt.bar(items, counts)\n",
    "plt.xlabel('Author')\n",
    "plt.ylabel('Books number')\n",
    "plt.title('number of books of each author')\n",
    "plt.xticks([])\n",
    "plt.show()"
   ]
  },
  {
   "cell_type": "markdown",
   "metadata": {},
   "source": [
    "هر سال چند کتاب منتشر شده است"
   ]
  },
  {
   "cell_type": "code",
   "execution_count": 43,
   "metadata": {},
   "outputs": [
    {
     "name": "stdout",
     "output_type": "stream",
     "text": [
      "most year : 2007, Published 466 times\n",
      "least year : 1759, Published 1 times\n"
     ]
    }
   ],
   "source": [
    "years =[date[:4] for date in df[df['Publication Date'] != 'Unknown']['Publication Date']]\n",
    "counter = Counter(years)\n",
    "max_count = max(counter.values())\n",
    "min_count = min(counter.values())\n",
    "most_repeated = max(counter, key=counter.get)\n",
    "least_repeated = min(counter, key=counter.get)\n",
    "print(f'most year : {most_repeated}, Published {max_count} times')\n",
    "print(f'least year : {least_repeated}, Published {min_count} times')"
   ]
  },
  {
   "cell_type": "markdown",
   "metadata": {},
   "source": [
    "نمودار تعداد کتاب در هر سال"
   ]
  },
  {
   "cell_type": "code",
   "execution_count": 44,
   "metadata": {
    "scrolled": true
   },
   "outputs": [
    {
     "data": {
      "image/png": "[encoded data removed]",
      "text/plain": [
       "<Figure size 640x480 with 1 Axes>"
      ]
     },
     "metadata": {},
     "output_type": "display_data"
    }
   ],
   "source": [
    "items = list(counter.keys())\n",
    "counts = list(counter.values())\n",
    "\n",
    "plt.bar(items, counts)\n",
    "plt.xlabel('years')\n",
    "plt.ylabel('Books number')\n",
    "plt.title('number of books of each author')\n",
    "plt.xticks([])\n",
    "plt.show()"
   ]
  },
  {
   "cell_type": "markdown",
   "metadata": {},
   "source": [
    "قدیمی ترین و جدید ترین کتاب ها "
   ]
  },
  {
   "cell_type": "code",
   "execution_count": 45,
   "metadata": {},
   "outputs": [
    {
     "name": "stdout",
     "output_type": "stream",
     "text": [
      "fist year of Publication year : 0398, Book name : The Confessions of St. Augustine\n",
      "last year of Publication year : 2013, Book name : Dr. Sleep\n"
     ]
    }
   ],
   "source": [
    "years = set(years)\n",
    "years = sorted(years)\n",
    "print(f'fist year of Publication year : {years[0]}, Book name : The Confessions of St. Augustine')\n",
    "print(f'last year of Publication year : {years[-1]}, Book name : Dr. Sleep')"
   ]
  }
 ],
 "metadata": {
  "colab": {
   "provenance": []
  },
  "kernelspec": {
   "display_name": "Python 3 (ipykernel)",
   "language": "python",
   "name": "python3"
  },
  "language_info": {
   "codemirror_mode": {
    "name": "ipython",
    "version": 3
   },
   "file_extension": ".py",
   "mimetype": "text/x-python",
   "name": "python",
   "nbconvert_exporter": "python",
   "pygments_lexer": "ipython3",
   "version": "3.10.2"
  },
  "widgets": {
   "application/vnd.jupyter.widget-state+json": {
    "01d614746ae94433aef25e282f7d1607": {
     "model_module": "@jupyter-widgets/base",
     "model_module_version": "1.2.0",
     "model_name": "LayoutModel",
     "state": {
      "_model_module": "@jupyter-widgets/base",
      "_model_module_version": "1.2.0",
      "_model_name": "LayoutModel",
      "_view_count": null,
      "_view_module": "@jupyter-widgets/base",
      "_view_module_version": "1.2.0",
      "_view_name": "LayoutView",
      "align_content": null,
      "align_items": null,
      "align_self": null,
      "border": null,
      "bottom": null,
      "display": null,
      "flex": null,
      "flex_flow": null,
      "grid_area": null,
      "grid_auto_columns": null,
      "grid_auto_flow": null,
      "grid_auto_rows": null,
      "grid_column": null,
      "grid_gap": null,
      "grid_row": null,
      "grid_template_areas": null,
      "grid_template_columns": null,
      "grid_template_rows": null,
      "height": null,
      "justify_content": null,
      "justify_items": null,
      "left": null,
      "margin": null,
      "max_height": null,
      "max_width": null,
      "min_height": null,
      "min_width": null,
      "object_fit": null,
      "object_position": null,
      "order": null,
      "overflow": null,
      "overflow_x": null,
      "overflow_y": null,
      "padding": null,
      "right": null,
      "top": null,
      "visibility": null,
      "width": null
     }
    },
    "09a68f07fdb549d9a3860024573e93ae": {
     "model_module": "@jupyter-widgets/base",
     "model_module_version": "1.2.0",
     "model_name": "LayoutModel",
     "state": {
      "_model_module": "@jupyter-widgets/base",
      "_model_module_version": "1.2.0",
      "_model_name": "LayoutModel",
      "_view_count": null,
      "_view_module": "@jupyter-widgets/base",
      "_view_module_version": "1.2.0",
      "_view_name": "LayoutView",
      "align_content": null,
      "align_items": null,
      "align_self": null,
      "border": null,
      "bottom": null,
      "display": null,
      "flex": null,
      "flex_flow": null,
      "grid_area": null,
      "grid_auto_columns": null,
      "grid_auto_flow": null,
      "grid_auto_rows": null,
      "grid_column": null,
      "grid_gap": null,
      "grid_row": null,
      "grid_template_areas": null,
      "grid_template_columns": null,
      "grid_template_rows": null,
      "height": null,
      "justify_content": null,
      "justify_items": null,
      "left": null,
      "margin": null,
      "max_height": null,
      "max_width": null,
      "min_height": null,
      "min_width": null,
      "object_fit": null,
      "object_position": null,
      "order": null,
      "overflow": null,
      "overflow_x": null,
      "overflow_y": null,
      "padding": null,
      "right": null,
      "top": null,
      "visibility": null,
      "width": null
     }
    },
    "0b44a279ab534881a30e65666e07802b": {
     "model_module": "@jupyter-widgets/controls",
     "model_module_version": "1.5.0",
     "model_name": "HTMLModel",
     "state": {
      "_dom_classes": [],
      "_model_module": "@jupyter-widgets/controls",
      "_model_module_version": "1.5.0",
      "_model_name": "HTMLModel",
      "_view_count": null,
      "_view_module": "@jupyter-widgets/controls",
      "_view_module_version": "1.5.0",
      "_view_name": "HTMLView",
      "description": "",
      "description_tooltip": null,
      "layout": "IPY_MODEL_fca2484e1abb4ac2b1edae99d2588c84",
      "placeholder": "​",
      "style": "IPY_MODEL_1debffea1c47436793075a91d6c63fbd",
      "value": " 456k/456k [00:00&lt;00:00, 10.9MB/s]"
     }
    },
    "0ceb91f653ab40d482bbe3887bb1b41e": {
     "model_module": "@jupyter-widgets/controls",
     "model_module_version": "1.5.0",
     "model_name": "ProgressStyleModel",
     "state": {
      "_model_module": "@jupyter-widgets/controls",
      "_model_module_version": "1.5.0",
      "_model_name": "ProgressStyleModel",
      "_view_count": null,
      "_view_module": "@jupyter-widgets/base",
      "_view_module_version": "1.2.0",
      "_view_name": "StyleView",
      "bar_color": null,
      "description_width": ""
     }
    },
    "0d9e56d789ca45569de685dd84708465": {
     "model_module": "@jupyter-widgets/base",
     "model_module_version": "1.2.0",
     "model_name": "LayoutModel",
     "state": {
      "_model_module": "@jupyter-widgets/base",
      "_model_module_version": "1.2.0",
      "_model_name": "LayoutModel",
      "_view_count": null,
      "_view_module": "@jupyter-widgets/base",
      "_view_module_version": "1.2.0",
      "_view_name": "LayoutView",
      "align_content": null,
      "align_items": null,
      "align_self": null,
      "border": null,
      "bottom": null,
      "display": null,
      "flex": null,
      "flex_flow": null,
      "grid_area": null,
      "grid_auto_columns": null,
      "grid_auto_flow": null,
      "grid_auto_rows": null,
      "grid_column": null,
      "grid_gap": null,
      "grid_row": null,
      "grid_template_areas": null,
      "grid_template_columns": null,
      "grid_template_rows": null,
      "height": null,
      "justify_content": null,
      "justify_items": null,
      "left": null,
      "margin": null,
      "max_height": null,
      "max_width": null,
      "min_height": null,
      "min_width": null,
      "object_fit": null,
      "object_position": null,
      "order": null,
      "overflow": null,
      "overflow_x": null,
      "overflow_y": null,
      "padding": null,
      "right": null,
      "top": null,
      "visibility": null,
      "width": null
     }
    },
    "13811e4aed2f404485d5a9c1c0e8f977": {
     "model_module": "@jupyter-widgets/controls",
     "model_module_version": "1.5.0",
     "model_name": "HTMLModel",
     "state": {
      "_dom_classes": [],
      "_model_module": "@jupyter-widgets/controls",
      "_model_module_version": "1.5.0",
      "_model_name": "HTMLModel",
      "_view_count": null,
      "_view_module": "@jupyter-widgets/controls",
      "_view_module_version": "1.5.0",
      "_view_name": "HTMLView",
      "description": "",
      "description_tooltip": null,
      "layout": "IPY_MODEL_09a68f07fdb549d9a3860024573e93ae",
      "placeholder": "​",
      "style": "IPY_MODEL_4d3c9a98699f4ab58f3f52336afc3cbe",
      "value": " 363/363 [00:00&lt;00:00, 21.6kB/s]"
     }
    },
    "1a9dcfbb74e34d81a858ae8bb71bf155": {
     "model_module": "@jupyter-widgets/base",
     "model_module_version": "1.2.0",
     "model_name": "LayoutModel",
     "state": {
      "_model_module": "@jupyter-widgets/base",
      "_model_module_version": "1.2.0",
      "_model_name": "LayoutModel",
      "_view_count": null,
      "_view_module": "@jupyter-widgets/base",
      "_view_module_version": "1.2.0",
      "_view_name": "LayoutView",
      "align_content": null,
      "align_items": null,
      "align_self": null,
      "border": null,
      "bottom": null,
      "display": null,
      "flex": null,
      "flex_flow": null,
      "grid_area": null,
      "grid_auto_columns": null,
      "grid_auto_flow": null,
      "grid_auto_rows": null,
      "grid_column": null,
      "grid_gap": null,
      "grid_row": null,
      "grid_template_areas": null,
      "grid_template_columns": null,
      "grid_template_rows": null,
      "height": null,
      "justify_content": null,
      "justify_items": null,
      "left": null,
      "margin": null,
      "max_height": null,
      "max_width": null,
      "min_height": null,
      "min_width": null,
      "object_fit": null,
      "object_position": null,
      "order": null,
      "overflow": null,
      "overflow_x": null,
      "overflow_y": null,
      "padding": null,
      "right": null,
      "top": null,
      "visibility": null,
      "width": null
     }
    },
    "1debffea1c47436793075a91d6c63fbd": {
     "model_module": "@jupyter-widgets/controls",
     "model_module_version": "1.5.0",
     "model_name": "DescriptionStyleModel",
     "state": {
      "_model_module": "@jupyter-widgets/controls",
      "_model_module_version": "1.5.0",
      "_model_name": "DescriptionStyleModel",
      "_view_count": null,
      "_view_module": "@jupyter-widgets/base",
      "_view_module_version": "1.2.0",
      "_view_name": "StyleView",
      "description_width": ""
     }
    },
    "20ddc92af2fd4b7fa3bc7c12f6283f26": {
     "model_module": "@jupyter-widgets/controls",
     "model_module_version": "1.5.0",
     "model_name": "FloatProgressModel",
     "state": {
      "_dom_classes": [],
      "_model_module": "@jupyter-widgets/controls",
      "_model_module_version": "1.5.0",
      "_model_name": "FloatProgressModel",
      "_view_count": null,
      "_view_module": "@jupyter-widgets/controls",
      "_view_module_version": "1.5.0",
      "_view_name": "ProgressView",
      "bar_style": "success",
      "description": "",
      "description_tooltip": null,
      "layout": "IPY_MODEL_847a7955f2034e2dbb7da6db928a8120",
      "max": 1625222120,
      "min": 0,
      "orientation": "horizontal",
      "style": "IPY_MODEL_c613ce9edf6c4acc9d82df387984f775",
      "value": 1625222120
     }
    },
    "21fe9ae5276e48b48c7baad87dbfcb2f": {
     "model_module": "@jupyter-widgets/controls",
     "model_module_version": "1.5.0",
     "model_name": "FloatProgressModel",
     "state": {
      "_dom_classes": [],
      "_model_module": "@jupyter-widgets/controls",
      "_model_module_version": "1.5.0",
      "_model_name": "FloatProgressModel",
      "_view_count": null,
      "_view_module": "@jupyter-widgets/controls",
      "_view_module_version": "1.5.0",
      "_view_name": "ProgressView",
      "bar_style": "success",
      "description": "",
      "description_tooltip": null,
      "layout": "IPY_MODEL_9d775fc5b2c8451c9f144db66f04b379",
      "max": 1585,
      "min": 0,
      "orientation": "horizontal",
      "style": "IPY_MODEL_9ec192c22a1f42b5805a7056a7db4b9c",
      "value": 1585
     }
    },
    "290e3f2c5a7a4addb93f7434eb94058e": {
     "model_module": "@jupyter-widgets/base",
     "model_module_version": "1.2.0",
     "model_name": "LayoutModel",
     "state": {
      "_model_module": "@jupyter-widgets/base",
      "_model_module_version": "1.2.0",
      "_model_name": "LayoutModel",
      "_view_count": null,
      "_view_module": "@jupyter-widgets/base",
      "_view_module_version": "1.2.0",
      "_view_name": "LayoutView",
      "align_content": null,
      "align_items": null,
      "align_self": null,
      "border": null,
      "bottom": null,
      "display": null,
      "flex": null,
      "flex_flow": null,
      "grid_area": null,
      "grid_auto_columns": null,
      "grid_auto_flow": null,
      "grid_auto_rows": null,
      "grid_column": null,
      "grid_gap": null,
      "grid_row": null,
      "grid_template_areas": null,
      "grid_template_columns": null,
      "grid_template_rows": null,
      "height": null,
      "justify_content": null,
      "justify_items": null,
      "left": null,
      "margin": null,
      "max_height": null,
      "max_width": null,
      "min_height": null,
      "min_width": null,
      "object_fit": null,
      "object_position": null,
      "order": null,
      "overflow": null,
      "overflow_x": null,
      "overflow_y": null,
      "padding": null,
      "right": null,
      "top": null,
      "visibility": null,
      "width": null
     }
    },
    "2b469942ed614ca6836f74975b564647": {
     "model_module": "@jupyter-widgets/controls",
     "model_module_version": "1.5.0",
     "model_name": "HBoxModel",
     "state": {
      "_dom_classes": [],
      "_model_module": "@jupyter-widgets/controls",
      "_model_module_version": "1.5.0",
      "_model_name": "HBoxModel",
      "_view_count": null,
      "_view_module": "@jupyter-widgets/controls",
      "_view_module_version": "1.5.0",
      "_view_name": "HBoxView",
      "box_style": "",
      "children": [
       "IPY_MODEL_a4ed7313a2c04771a9574c664b8391fb",
       "IPY_MODEL_96fc439a7bdc494593526a38eeced0be",
       "IPY_MODEL_c5a7cf3a1775412089e20f0121254180"
      ],
      "layout": "IPY_MODEL_b259585e738e46b3802d1d196aad5f46"
     }
    },
    "36c044f795044dae9074f538a70ce155": {
     "model_module": "@jupyter-widgets/base",
     "model_module_version": "1.2.0",
     "model_name": "LayoutModel",
     "state": {
      "_model_module": "@jupyter-widgets/base",
      "_model_module_version": "1.2.0",
      "_model_name": "LayoutModel",
      "_view_count": null,
      "_view_module": "@jupyter-widgets/base",
      "_view_module_version": "1.2.0",
      "_view_name": "LayoutView",
      "align_content": null,
      "align_items": null,
      "align_self": null,
      "border": null,
      "bottom": null,
      "display": null,
      "flex": null,
      "flex_flow": null,
      "grid_area": null,
      "grid_auto_columns": null,
      "grid_auto_flow": null,
      "grid_auto_rows": null,
      "grid_column": null,
      "grid_gap": null,
      "grid_row": null,
      "grid_template_areas": null,
      "grid_template_columns": null,
      "grid_template_rows": null,
      "height": null,
      "justify_content": null,
      "justify_items": null,
      "left": null,
      "margin": null,
      "max_height": null,
      "max_width": null,
      "min_height": null,
      "min_width": null,
      "object_fit": null,
      "object_position": null,
      "order": null,
      "overflow": null,
      "overflow_x": null,
      "overflow_y": null,
      "padding": null,
      "right": null,
      "top": null,
      "visibility": null,
      "width": null
     }
    },
    "37102e2d616540b68e25353890e902b2": {
     "model_module": "@jupyter-widgets/base",
     "model_module_version": "1.2.0",
     "model_name": "LayoutModel",
     "state": {
      "_model_module": "@jupyter-widgets/base",
      "_model_module_version": "1.2.0",
      "_model_name": "LayoutModel",
      "_view_count": null,
      "_view_module": "@jupyter-widgets/base",
      "_view_module_version": "1.2.0",
      "_view_name": "LayoutView",
      "align_content": null,
      "align_items": null,
      "align_self": null,
      "border": null,
      "bottom": null,
      "display": null,
      "flex": null,
      "flex_flow": null,
      "grid_area": null,
      "grid_auto_columns": null,
      "grid_auto_flow": null,
      "grid_auto_rows": null,
      "grid_column": null,
      "grid_gap": null,
      "grid_row": null,
      "grid_template_areas": null,
      "grid_template_columns": null,
      "grid_template_rows": null,
      "height": null,
      "justify_content": null,
      "justify_items": null,
      "left": null,
      "margin": null,
      "max_height": null,
      "max_width": null,
      "min_height": null,
      "min_width": null,
      "object_fit": null,
      "object_position": null,
      "order": null,
      "overflow": null,
      "overflow_x": null,
      "overflow_y": null,
      "padding": null,
      "right": null,
      "top": null,
      "visibility": null,
      "width": null
     }
    },
    "3abf8e7be5e34a10887fe7d3d6bd5761": {
     "model_module": "@jupyter-widgets/controls",
     "model_module_version": "1.5.0",
     "model_name": "DescriptionStyleModel",
     "state": {
      "_model_module": "@jupyter-widgets/controls",
      "_model_module_version": "1.5.0",
      "_model_name": "DescriptionStyleModel",
      "_view_count": null,
      "_view_module": "@jupyter-widgets/base",
      "_view_module_version": "1.2.0",
      "_view_name": "StyleView",
      "description_width": ""
     }
    },
    "3eeb76e9de8140f9978b3708c65131b7": {
     "model_module": "@jupyter-widgets/controls",
     "model_module_version": "1.5.0",
     "model_name": "FloatProgressModel",
     "state": {
      "_dom_classes": [],
      "_model_module": "@jupyter-widgets/controls",
      "_model_module_version": "1.5.0",
      "_model_name": "FloatProgressModel",
      "_view_count": null,
      "_view_module": "@jupyter-widgets/controls",
      "_view_module_version": "1.5.0",
      "_view_name": "ProgressView",
      "bar_style": "success",
      "description": "",
      "description_tooltip": null,
      "layout": "IPY_MODEL_7399ff29c98f42eaa72bb627b831ebd3",
      "max": 456318,
      "min": 0,
      "orientation": "horizontal",
      "style": "IPY_MODEL_8f15a63994b4404ba55eb3cebca1d182",
      "value": 456318
     }
    },
    "3f376e931bd14c678e8a6247f085ff85": {
     "model_module": "@jupyter-widgets/controls",
     "model_module_version": "1.5.0",
     "model_name": "HTMLModel",
     "state": {
      "_dom_classes": [],
      "_model_module": "@jupyter-widgets/controls",
      "_model_module_version": "1.5.0",
      "_model_name": "HTMLModel",
      "_view_count": null,
      "_view_module": "@jupyter-widgets/controls",
      "_view_module_version": "1.5.0",
      "_view_name": "HTMLView",
      "description": "",
      "description_tooltip": null,
      "layout": "IPY_MODEL_733a8e2558bd4b4c82478c518b4232ee",
      "placeholder": "​",
      "style": "IPY_MODEL_5a92b38467f042338c7a4438609e4b15",
      "value": "Loading pipeline components...: 100%"
     }
    },
    "415869dcdbfc4b059c4a33f8ffed1e4b": {
     "model_module": "@jupyter-widgets/controls",
     "model_module_version": "1.5.0",
     "model_name": "DescriptionStyleModel",
     "state": {
      "_model_module": "@jupyter-widgets/controls",
      "_model_module_version": "1.5.0",
      "_model_name": "DescriptionStyleModel",
      "_view_count": null,
      "_view_module": "@jupyter-widgets/base",
      "_view_module_version": "1.2.0",
      "_view_name": "StyleView",
      "description_width": ""
     }
    },
    "426b0c58879d47c9a796ddab1255668d": {
     "model_module": "@jupyter-widgets/controls",
     "model_module_version": "1.5.0",
     "model_name": "HTMLModel",
     "state": {
      "_dom_classes": [],
      "_model_module": "@jupyter-widgets/controls",
      "_model_module_version": "1.5.0",
      "_model_name": "HTMLModel",
      "_view_count": null,
      "_view_module": "@jupyter-widgets/controls",
      "_view_module_version": "1.5.0",
      "_view_name": "HTMLView",
      "description": "",
      "description_tooltip": null,
      "layout": "IPY_MODEL_d9994bd9c38845668fc6e350996b7800",
      "placeholder": "​",
      "style": "IPY_MODEL_e72b5324fcc046f78235de5e1d586ee3",
      "value": " 1.63G/1.63G [00:17&lt;00:00, 70.4MB/s]"
     }
    },
    "44b6d19daf1840dc9616cdbb846c823c": {
     "model_module": "@jupyter-widgets/base",
     "model_module_version": "1.2.0",
     "model_name": "LayoutModel",
     "state": {
      "_model_module": "@jupyter-widgets/base",
      "_model_module_version": "1.2.0",
      "_model_name": "LayoutModel",
      "_view_count": null,
      "_view_module": "@jupyter-widgets/base",
      "_view_module_version": "1.2.0",
      "_view_name": "LayoutView",
      "align_content": null,
      "align_items": null,
      "align_self": null,
      "border": null,
      "bottom": null,
      "display": null,
      "flex": null,
      "flex_flow": null,
      "grid_area": null,
      "grid_auto_columns": null,
      "grid_auto_flow": null,
      "grid_auto_rows": null,
      "grid_column": null,
      "grid_gap": null,
      "grid_row": null,
      "grid_template_areas": null,
      "grid_template_columns": null,
      "grid_template_rows": null,
      "height": null,
      "justify_content": null,
      "justify_items": null,
      "left": null,
      "margin": null,
      "max_height": null,
      "max_width": null,
      "min_height": null,
      "min_width": null,
      "object_fit": null,
      "object_position": null,
      "order": null,
      "overflow": null,
      "overflow_x": null,
      "overflow_y": null,
      "padding": null,
      "right": null,
      "top": null,
      "visibility": null,
      "width": null
     }
    },
    "453e93d40d4a40f0beb084b1a43f585d": {
     "model_module": "@jupyter-widgets/controls",
     "model_module_version": "1.5.0",
     "model_name": "HTMLModel",
     "state": {
      "_dom_classes": [],
      "_model_module": "@jupyter-widgets/controls",
      "_model_module_version": "1.5.0",
      "_model_name": "HTMLModel",
      "_view_count": null,
      "_view_module": "@jupyter-widgets/controls",
      "_view_module_version": "1.5.0",
      "_view_name": "HTMLView",
      "description": "",
      "description_tooltip": null,
      "layout": "IPY_MODEL_1a9dcfbb74e34d81a858ae8bb71bf155",
      "placeholder": "​",
      "style": "IPY_MODEL_e3ea407379c148479ec44004152e4548",
      "value": "vocab.json: 100%"
     }
    },
    "457625ae906740ac999f0f7412d75a49": {
     "model_module": "@jupyter-widgets/controls",
     "model_module_version": "1.5.0",
     "model_name": "DescriptionStyleModel",
     "state": {
      "_model_module": "@jupyter-widgets/controls",
      "_model_module_version": "1.5.0",
      "_model_name": "DescriptionStyleModel",
      "_view_count": null,
      "_view_module": "@jupyter-widgets/base",
      "_view_module_version": "1.2.0",
      "_view_name": "StyleView",
      "description_width": ""
     }
    },
    "4612c111966341039fbd5f1b201b489b": {
     "model_module": "@jupyter-widgets/controls",
     "model_module_version": "1.5.0",
     "model_name": "HTMLModel",
     "state": {
      "_dom_classes": [],
      "_model_module": "@jupyter-widgets/controls",
      "_model_module_version": "1.5.0",
      "_model_name": "HTMLModel",
      "_view_count": null,
      "_view_module": "@jupyter-widgets/controls",
      "_view_module_version": "1.5.0",
      "_view_name": "HTMLView",
      "description": "",
      "description_tooltip": null,
      "layout": "IPY_MODEL_44b6d19daf1840dc9616cdbb846c823c",
      "placeholder": "​",
      "style": "IPY_MODEL_ed227755d8a6407d985aa484f578a7cf",
      "value": "config.json: 100%"
     }
    },
    "4690b1f530004d82858ed3ab8a40d0b4": {
     "model_module": "@jupyter-widgets/base",
     "model_module_version": "1.2.0",
     "model_name": "LayoutModel",
     "state": {
      "_model_module": "@jupyter-widgets/base",
      "_model_module_version": "1.2.0",
      "_model_name": "LayoutModel",
      "_view_count": null,
      "_view_module": "@jupyter-widgets/base",
      "_view_module_version": "1.2.0",
      "_view_name": "LayoutView",
      "align_content": null,
      "align_items": null,
      "align_self": null,
      "border": null,
      "bottom": null,
      "display": null,
      "flex": null,
      "flex_flow": null,
      "grid_area": null,
      "grid_auto_columns": null,
      "grid_auto_flow": null,
      "grid_auto_rows": null,
      "grid_column": null,
      "grid_gap": null,
      "grid_row": null,
      "grid_template_areas": null,
      "grid_template_columns": null,
      "grid_template_rows": null,
      "height": null,
      "justify_content": null,
      "justify_items": null,
      "left": null,
      "margin": null,
      "max_height": null,
      "max_width": null,
      "min_height": null,
      "min_width": null,
      "object_fit": null,
      "object_position": null,
      "order": null,
      "overflow": null,
      "overflow_x": null,
      "overflow_y": null,
      "padding": null,
      "right": null,
      "top": null,
      "visibility": null,
      "width": null
     }
    },
    "47859eb556aa4a03ae00d1c762d8100b": {
     "model_module": "@jupyter-widgets/controls",
     "model_module_version": "1.5.0",
     "model_name": "HBoxModel",
     "state": {
      "_dom_classes": [],
      "_model_module": "@jupyter-widgets/controls",
      "_model_module_version": "1.5.0",
      "_model_name": "HBoxModel",
      "_view_count": null,
      "_view_module": "@jupyter-widgets/controls",
      "_view_module_version": "1.5.0",
      "_view_name": "HBoxView",
      "box_style": "",
      "children": [
       "IPY_MODEL_3f376e931bd14c678e8a6247f085ff85",
       "IPY_MODEL_f423b1669a7c4b8d85cb356780024b99",
       "IPY_MODEL_b8b7ae1bd9f6492082521a001cb9c784"
      ],
      "layout": "IPY_MODEL_4690b1f530004d82858ed3ab8a40d0b4"
     }
    },
    "4d3c9a98699f4ab58f3f52336afc3cbe": {
     "model_module": "@jupyter-widgets/controls",
     "model_module_version": "1.5.0",
     "model_name": "DescriptionStyleModel",
     "state": {
      "_model_module": "@jupyter-widgets/controls",
      "_model_module_version": "1.5.0",
      "_model_name": "DescriptionStyleModel",
      "_view_count": null,
      "_view_module": "@jupyter-widgets/base",
      "_view_module_version": "1.2.0",
      "_view_name": "StyleView",
      "description_width": ""
     }
    },
    "556835131de640eba2c2103ae985869b": {
     "model_module": "@jupyter-widgets/controls",
     "model_module_version": "1.5.0",
     "model_name": "FloatProgressModel",
     "state": {
      "_dom_classes": [],
      "_model_module": "@jupyter-widgets/controls",
      "_model_module_version": "1.5.0",
      "_model_name": "FloatProgressModel",
      "_view_count": null,
      "_view_module": "@jupyter-widgets/controls",
      "_view_module_version": "1.5.0",
      "_view_name": "ProgressView",
      "bar_style": "success",
      "description": "",
      "description_tooltip": null,
      "layout": "IPY_MODEL_925a55664e114cf79d21d316bbdba9d1",
      "max": 898823,
      "min": 0,
      "orientation": "horizontal",
      "style": "IPY_MODEL_c2e554eb47f546168a20bb3c97f99557",
      "value": 898823
     }
    },
    "5a92b38467f042338c7a4438609e4b15": {
     "model_module": "@jupyter-widgets/controls",
     "model_module_version": "1.5.0",
     "model_name": "DescriptionStyleModel",
     "state": {
      "_model_module": "@jupyter-widgets/controls",
      "_model_module_version": "1.5.0",
      "_model_name": "DescriptionStyleModel",
      "_view_count": null,
      "_view_module": "@jupyter-widgets/base",
      "_view_module_version": "1.2.0",
      "_view_name": "StyleView",
      "description_width": ""
     }
    },
    "5abd9dbaf2ff4fdc8230e71ccc1fa326": {
     "model_module": "@jupyter-widgets/controls",
     "model_module_version": "1.5.0",
     "model_name": "DescriptionStyleModel",
     "state": {
      "_model_module": "@jupyter-widgets/controls",
      "_model_module_version": "1.5.0",
      "_model_name": "DescriptionStyleModel",
      "_view_count": null,
      "_view_module": "@jupyter-widgets/base",
      "_view_module_version": "1.2.0",
      "_view_name": "StyleView",
      "description_width": ""
     }
    },
    "63e1fefc86144e4983dff38741f062f4": {
     "model_module": "@jupyter-widgets/controls",
     "model_module_version": "1.5.0",
     "model_name": "HBoxModel",
     "state": {
      "_dom_classes": [],
      "_model_module": "@jupyter-widgets/controls",
      "_model_module_version": "1.5.0",
      "_model_name": "HBoxModel",
      "_view_count": null,
      "_view_module": "@jupyter-widgets/controls",
      "_view_module_version": "1.5.0",
      "_view_name": "HBoxView",
      "box_style": "",
      "children": [
       "IPY_MODEL_87330ad34c4e4d0993d9a6ae33892dc2",
       "IPY_MODEL_3eeb76e9de8140f9978b3708c65131b7",
       "IPY_MODEL_0b44a279ab534881a30e65666e07802b"
      ],
      "layout": "IPY_MODEL_37102e2d616540b68e25353890e902b2"
     }
    },
    "706bf3d155b84134aa8bc234b46f040d": {
     "model_module": "@jupyter-widgets/base",
     "model_module_version": "1.2.0",
     "model_name": "LayoutModel",
     "state": {
      "_model_module": "@jupyter-widgets/base",
      "_model_module_version": "1.2.0",
      "_model_name": "LayoutModel",
      "_view_count": null,
      "_view_module": "@jupyter-widgets/base",
      "_view_module_version": "1.2.0",
      "_view_name": "LayoutView",
      "align_content": null,
      "align_items": null,
      "align_self": null,
      "border": null,
      "bottom": null,
      "display": null,
      "flex": null,
      "flex_flow": null,
      "grid_area": null,
      "grid_auto_columns": null,
      "grid_auto_flow": null,
      "grid_auto_rows": null,
      "grid_column": null,
      "grid_gap": null,
      "grid_row": null,
      "grid_template_areas": null,
      "grid_template_columns": null,
      "grid_template_rows": null,
      "height": null,
      "justify_content": null,
      "justify_items": null,
      "left": null,
      "margin": null,
      "max_height": null,
      "max_width": null,
      "min_height": null,
      "min_width": null,
      "object_fit": null,
      "object_position": null,
      "order": null,
      "overflow": null,
      "overflow_x": null,
      "overflow_y": null,
      "padding": null,
      "right": null,
      "top": null,
      "visibility": null,
      "width": null
     }
    },
    "733a8e2558bd4b4c82478c518b4232ee": {
     "model_module": "@jupyter-widgets/base",
     "model_module_version": "1.2.0",
     "model_name": "LayoutModel",
     "state": {
      "_model_module": "@jupyter-widgets/base",
      "_model_module_version": "1.2.0",
      "_model_name": "LayoutModel",
      "_view_count": null,
      "_view_module": "@jupyter-widgets/base",
      "_view_module_version": "1.2.0",
      "_view_name": "LayoutView",
      "align_content": null,
      "align_items": null,
      "align_self": null,
      "border": null,
      "bottom": null,
      "display": null,
      "flex": null,
      "flex_flow": null,
      "grid_area": null,
      "grid_auto_columns": null,
      "grid_auto_flow": null,
      "grid_auto_rows": null,
      "grid_column": null,
      "grid_gap": null,
      "grid_row": null,
      "grid_template_areas": null,
      "grid_template_columns": null,
      "grid_template_rows": null,
      "height": null,
      "justify_content": null,
      "justify_items": null,
      "left": null,
      "margin": null,
      "max_height": null,
      "max_width": null,
      "min_height": null,
      "min_width": null,
      "object_fit": null,
      "object_position": null,
      "order": null,
      "overflow": null,
      "overflow_x": null,
      "overflow_y": null,
      "padding": null,
      "right": null,
      "top": null,
      "visibility": null,
      "width": null
     }
    },
    "7399ff29c98f42eaa72bb627b831ebd3": {
     "model_module": "@jupyter-widgets/base",
     "model_module_version": "1.2.0",
     "model_name": "LayoutModel",
     "state": {
      "_model_module": "@jupyter-widgets/base",
      "_model_module_version": "1.2.0",
      "_model_name": "LayoutModel",
      "_view_count": null,
      "_view_module": "@jupyter-widgets/base",
      "_view_module_version": "1.2.0",
      "_view_name": "LayoutView",
      "align_content": null,
      "align_items": null,
      "align_self": null,
      "border": null,
      "bottom": null,
      "display": null,
      "flex": null,
      "flex_flow": null,
      "grid_area": null,
      "grid_auto_columns": null,
      "grid_auto_flow": null,
      "grid_auto_rows": null,
      "grid_column": null,
      "grid_gap": null,
      "grid_row": null,
      "grid_template_areas": null,
      "grid_template_columns": null,
      "grid_template_rows": null,
      "height": null,
      "justify_content": null,
      "justify_items": null,
      "left": null,
      "margin": null,
      "max_height": null,
      "max_width": null,
      "min_height": null,
      "min_width": null,
      "object_fit": null,
      "object_position": null,
      "order": null,
      "overflow": null,
      "overflow_x": null,
      "overflow_y": null,
      "padding": null,
      "right": null,
      "top": null,
      "visibility": null,
      "width": null
     }
    },
    "760ebc3582744da888e7997e70dcf9fc": {
     "model_module": "@jupyter-widgets/controls",
     "model_module_version": "1.5.0",
     "model_name": "HTMLModel",
     "state": {
      "_dom_classes": [],
      "_model_module": "@jupyter-widgets/controls",
      "_model_module_version": "1.5.0",
      "_model_name": "HTMLModel",
      "_view_count": null,
      "_view_module": "@jupyter-widgets/controls",
      "_view_module_version": "1.5.0",
      "_view_name": "HTMLView",
      "description": "",
      "description_tooltip": null,
      "layout": "IPY_MODEL_cb8aef947cc449beaee578daf8ac4f53",
      "placeholder": "​",
      "style": "IPY_MODEL_457625ae906740ac999f0f7412d75a49",
      "value": "generation_config.json: 100%"
     }
    },
    "77ecb3306a444f7ebbc7d63082aac7ae": {
     "model_module": "@jupyter-widgets/controls",
     "model_module_version": "1.5.0",
     "model_name": "HBoxModel",
     "state": {
      "_dom_classes": [],
      "_model_module": "@jupyter-widgets/controls",
      "_model_module_version": "1.5.0",
      "_model_name": "HBoxModel",
      "_view_count": null,
      "_view_module": "@jupyter-widgets/controls",
      "_view_module_version": "1.5.0",
      "_view_name": "HBoxView",
      "box_style": "",
      "children": [
       "IPY_MODEL_e7134bfbb2de4af08fa0f4c84f8599b6",
       "IPY_MODEL_20ddc92af2fd4b7fa3bc7c12f6283f26",
       "IPY_MODEL_426b0c58879d47c9a796ddab1255668d"
      ],
      "layout": "IPY_MODEL_36c044f795044dae9074f538a70ce155"
     }
    },
    "7bee7c8107c44d5481e34b7f7fe06e57": {
     "model_module": "@jupyter-widgets/base",
     "model_module_version": "1.2.0",
     "model_name": "LayoutModel",
     "state": {
      "_model_module": "@jupyter-widgets/base",
      "_model_module_version": "1.2.0",
      "_model_name": "LayoutModel",
      "_view_count": null,
      "_view_module": "@jupyter-widgets/base",
      "_view_module_version": "1.2.0",
      "_view_name": "LayoutView",
      "align_content": null,
      "align_items": null,
      "align_self": null,
      "border": null,
      "bottom": null,
      "display": null,
      "flex": null,
      "flex_flow": null,
      "grid_area": null,
      "grid_auto_columns": null,
      "grid_auto_flow": null,
      "grid_auto_rows": null,
      "grid_column": null,
      "grid_gap": null,
      "grid_row": null,
      "grid_template_areas": null,
      "grid_template_columns": null,
      "grid_template_rows": null,
      "height": null,
      "justify_content": null,
      "justify_items": null,
      "left": null,
      "margin": null,
      "max_height": null,
      "max_width": null,
      "min_height": null,
      "min_width": null,
      "object_fit": null,
      "object_position": null,
      "order": null,
      "overflow": null,
      "overflow_x": null,
      "overflow_y": null,
      "padding": null,
      "right": null,
      "top": null,
      "visibility": null,
      "width": null
     }
    },
    "847a7955f2034e2dbb7da6db928a8120": {
     "model_module": "@jupyter-widgets/base",
     "model_module_version": "1.2.0",
     "model_name": "LayoutModel",
     "state": {
      "_model_module": "@jupyter-widgets/base",
      "_model_module_version": "1.2.0",
      "_model_name": "LayoutModel",
      "_view_count": null,
      "_view_module": "@jupyter-widgets/base",
      "_view_module_version": "1.2.0",
      "_view_name": "LayoutView",
      "align_content": null,
      "align_items": null,
      "align_self": null,
      "border": null,
      "bottom": null,
      "display": null,
      "flex": null,
      "flex_flow": null,
      "grid_area": null,
      "grid_auto_columns": null,
      "grid_auto_flow": null,
      "grid_auto_rows": null,
      "grid_column": null,
      "grid_gap": null,
      "grid_row": null,
      "grid_template_areas": null,
      "grid_template_columns": null,
      "grid_template_rows": null,
      "height": null,
      "justify_content": null,
      "justify_items": null,
      "left": null,
      "margin": null,
      "max_height": null,
      "max_width": null,
      "min_height": null,
      "min_width": null,
      "object_fit": null,
      "object_position": null,
      "order": null,
      "overflow": null,
      "overflow_x": null,
      "overflow_y": null,
      "padding": null,
      "right": null,
      "top": null,
      "visibility": null,
      "width": null
     }
    },
    "87330ad34c4e4d0993d9a6ae33892dc2": {
     "model_module": "@jupyter-widgets/controls",
     "model_module_version": "1.5.0",
     "model_name": "HTMLModel",
     "state": {
      "_dom_classes": [],
      "_model_module": "@jupyter-widgets/controls",
      "_model_module_version": "1.5.0",
      "_model_name": "HTMLModel",
      "_view_count": null,
      "_view_module": "@jupyter-widgets/controls",
      "_view_module_version": "1.5.0",
      "_view_name": "HTMLView",
      "description": "",
      "description_tooltip": null,
      "layout": "IPY_MODEL_9512067af94641459f95b12be6010158",
      "placeholder": "​",
      "style": "IPY_MODEL_bdec30b1402647419094a28c8fc3608d",
      "value": "merges.txt: 100%"
     }
    },
    "8f15a63994b4404ba55eb3cebca1d182": {
     "model_module": "@jupyter-widgets/controls",
     "model_module_version": "1.5.0",
     "model_name": "ProgressStyleModel",
     "state": {
      "_model_module": "@jupyter-widgets/controls",
      "_model_module_version": "1.5.0",
      "_model_name": "ProgressStyleModel",
      "_view_count": null,
      "_view_module": "@jupyter-widgets/base",
      "_view_module_version": "1.2.0",
      "_view_name": "StyleView",
      "bar_color": null,
      "description_width": ""
     }
    },
    "925a55664e114cf79d21d316bbdba9d1": {
     "model_module": "@jupyter-widgets/base",
     "model_module_version": "1.2.0",
     "model_name": "LayoutModel",
     "state": {
      "_model_module": "@jupyter-widgets/base",
      "_model_module_version": "1.2.0",
      "_model_name": "LayoutModel",
      "_view_count": null,
      "_view_module": "@jupyter-widgets/base",
      "_view_module_version": "1.2.0",
      "_view_name": "LayoutView",
      "align_content": null,
      "align_items": null,
      "align_self": null,
      "border": null,
      "bottom": null,
      "display": null,
      "flex": null,
      "flex_flow": null,
      "grid_area": null,
      "grid_auto_columns": null,
      "grid_auto_flow": null,
      "grid_auto_rows": null,
      "grid_column": null,
      "grid_gap": null,
      "grid_row": null,
      "grid_template_areas": null,
      "grid_template_columns": null,
      "grid_template_rows": null,
      "height": null,
      "justify_content": null,
      "justify_items": null,
      "left": null,
      "margin": null,
      "max_height": null,
      "max_width": null,
      "min_height": null,
      "min_width": null,
      "object_fit": null,
      "object_position": null,
      "order": null,
      "overflow": null,
      "overflow_x": null,
      "overflow_y": null,
      "padding": null,
      "right": null,
      "top": null,
      "visibility": null,
      "width": null
     }
    },
    "9512067af94641459f95b12be6010158": {
     "model_module": "@jupyter-widgets/base",
     "model_module_version": "1.2.0",
     "model_name": "LayoutModel",
     "state": {
      "_model_module": "@jupyter-widgets/base",
      "_model_module_version": "1.2.0",
      "_model_name": "LayoutModel",
      "_view_count": null,
      "_view_module": "@jupyter-widgets/base",
      "_view_module_version": "1.2.0",
      "_view_name": "LayoutView",
      "align_content": null,
      "align_items": null,
      "align_self": null,
      "border": null,
      "bottom": null,
      "display": null,
      "flex": null,
      "flex_flow": null,
      "grid_area": null,
      "grid_auto_columns": null,
      "grid_auto_flow": null,
      "grid_auto_rows": null,
      "grid_column": null,
      "grid_gap": null,
      "grid_row": null,
      "grid_template_areas": null,
      "grid_template_columns": null,
      "grid_template_rows": null,
      "height": null,
      "justify_content": null,
      "justify_items": null,
      "left": null,
      "margin": null,
      "max_height": null,
      "max_width": null,
      "min_height": null,
      "min_width": null,
      "object_fit": null,
      "object_position": null,
      "order": null,
      "overflow": null,
      "overflow_x": null,
      "overflow_y": null,
      "padding": null,
      "right": null,
      "top": null,
      "visibility": null,
      "width": null
     }
    },
    "955a077468af4f77ac17cb885b06cdae": {
     "model_module": "@jupyter-widgets/controls",
     "model_module_version": "1.5.0",
     "model_name": "HTMLModel",
     "state": {
      "_dom_classes": [],
      "_model_module": "@jupyter-widgets/controls",
      "_model_module_version": "1.5.0",
      "_model_name": "HTMLModel",
      "_view_count": null,
      "_view_module": "@jupyter-widgets/controls",
      "_view_module_version": "1.5.0",
      "_view_name": "HTMLView",
      "description": "",
      "description_tooltip": null,
      "layout": "IPY_MODEL_290e3f2c5a7a4addb93f7434eb94058e",
      "placeholder": "​",
      "style": "IPY_MODEL_3abf8e7be5e34a10887fe7d3d6bd5761",
      "value": " 899k/899k [00:00&lt;00:00, 5.02MB/s]"
     }
    },
    "9677ddc915ee40cea88d06bdc4318930": {
     "model_module": "@jupyter-widgets/controls",
     "model_module_version": "1.5.0",
     "model_name": "DescriptionStyleModel",
     "state": {
      "_model_module": "@jupyter-widgets/controls",
      "_model_module_version": "1.5.0",
      "_model_name": "DescriptionStyleModel",
      "_view_count": null,
      "_view_module": "@jupyter-widgets/base",
      "_view_module_version": "1.2.0",
      "_view_name": "StyleView",
      "description_width": ""
     }
    },
    "96fc439a7bdc494593526a38eeced0be": {
     "model_module": "@jupyter-widgets/controls",
     "model_module_version": "1.5.0",
     "model_name": "FloatProgressModel",
     "state": {
      "_dom_classes": [],
      "_model_module": "@jupyter-widgets/controls",
      "_model_module_version": "1.5.0",
      "_model_name": "FloatProgressModel",
      "_view_count": null,
      "_view_module": "@jupyter-widgets/controls",
      "_view_module_version": "1.5.0",
      "_view_name": "ProgressView",
      "bar_style": "success",
      "description": "",
      "description_tooltip": null,
      "layout": "IPY_MODEL_9886175f3940417fada43328983122f3",
      "max": 1355863,
      "min": 0,
      "orientation": "horizontal",
      "style": "IPY_MODEL_0ceb91f653ab40d482bbe3887bb1b41e",
      "value": 1355863
     }
    },
    "9886175f3940417fada43328983122f3": {
     "model_module": "@jupyter-widgets/base",
     "model_module_version": "1.2.0",
     "model_name": "LayoutModel",
     "state": {
      "_model_module": "@jupyter-widgets/base",
      "_model_module_version": "1.2.0",
      "_model_name": "LayoutModel",
      "_view_count": null,
      "_view_module": "@jupyter-widgets/base",
      "_view_module_version": "1.2.0",
      "_view_name": "LayoutView",
      "align_content": null,
      "align_items": null,
      "align_self": null,
      "border": null,
      "bottom": null,
      "display": null,
      "flex": null,
      "flex_flow": null,
      "grid_area": null,
      "grid_auto_columns": null,
      "grid_auto_flow": null,
      "grid_auto_rows": null,
      "grid_column": null,
      "grid_gap": null,
      "grid_row": null,
      "grid_template_areas": null,
      "grid_template_columns": null,
      "grid_template_rows": null,
      "height": null,
      "justify_content": null,
      "justify_items": null,
      "left": null,
      "margin": null,
      "max_height": null,
      "max_width": null,
      "min_height": null,
      "min_width": null,
      "object_fit": null,
      "object_position": null,
      "order": null,
      "overflow": null,
      "overflow_x": null,
      "overflow_y": null,
      "padding": null,
      "right": null,
      "top": null,
      "visibility": null,
      "width": null
     }
    },
    "9928a1158ebd4cf2a4de95f2c9e19b90": {
     "model_module": "@jupyter-widgets/controls",
     "model_module_version": "1.5.0",
     "model_name": "ProgressStyleModel",
     "state": {
      "_model_module": "@jupyter-widgets/controls",
      "_model_module_version": "1.5.0",
      "_model_name": "ProgressStyleModel",
      "_view_count": null,
      "_view_module": "@jupyter-widgets/base",
      "_view_module_version": "1.2.0",
      "_view_name": "StyleView",
      "bar_color": null,
      "description_width": ""
     }
    },
    "9d775fc5b2c8451c9f144db66f04b379": {
     "model_module": "@jupyter-widgets/base",
     "model_module_version": "1.2.0",
     "model_name": "LayoutModel",
     "state": {
      "_model_module": "@jupyter-widgets/base",
      "_model_module_version": "1.2.0",
      "_model_name": "LayoutModel",
      "_view_count": null,
      "_view_module": "@jupyter-widgets/base",
      "_view_module_version": "1.2.0",
      "_view_name": "LayoutView",
      "align_content": null,
      "align_items": null,
      "align_self": null,
      "border": null,
      "bottom": null,
      "display": null,
      "flex": null,
      "flex_flow": null,
      "grid_area": null,
      "grid_auto_columns": null,
      "grid_auto_flow": null,
      "grid_auto_rows": null,
      "grid_column": null,
      "grid_gap": null,
      "grid_row": null,
      "grid_template_areas": null,
      "grid_template_columns": null,
      "grid_template_rows": null,
      "height": null,
      "justify_content": null,
      "justify_items": null,
      "left": null,
      "margin": null,
      "max_height": null,
      "max_width": null,
      "min_height": null,
      "min_width": null,
      "object_fit": null,
      "object_position": null,
      "order": null,
      "overflow": null,
      "overflow_x": null,
      "overflow_y": null,
      "padding": null,
      "right": null,
      "top": null,
      "visibility": null,
      "width": null
     }
    },
    "9ec192c22a1f42b5805a7056a7db4b9c": {
     "model_module": "@jupyter-widgets/controls",
     "model_module_version": "1.5.0",
     "model_name": "ProgressStyleModel",
     "state": {
      "_model_module": "@jupyter-widgets/controls",
      "_model_module_version": "1.5.0",
      "_model_name": "ProgressStyleModel",
      "_view_count": null,
      "_view_module": "@jupyter-widgets/base",
      "_view_module_version": "1.2.0",
      "_view_name": "StyleView",
      "bar_color": null,
      "description_width": ""
     }
    },
    "a4ed7313a2c04771a9574c664b8391fb": {
     "model_module": "@jupyter-widgets/controls",
     "model_module_version": "1.5.0",
     "model_name": "HTMLModel",
     "state": {
      "_dom_classes": [],
      "_model_module": "@jupyter-widgets/controls",
      "_model_module_version": "1.5.0",
      "_model_name": "HTMLModel",
      "_view_count": null,
      "_view_module": "@jupyter-widgets/controls",
      "_view_module_version": "1.5.0",
      "_view_name": "HTMLView",
      "description": "",
      "description_tooltip": null,
      "layout": "IPY_MODEL_db1a8c9d21c049398557052e760ea6fb",
      "placeholder": "​",
      "style": "IPY_MODEL_5abd9dbaf2ff4fdc8230e71ccc1fa326",
      "value": "tokenizer.json: 100%"
     }
    },
    "a70d1cc0143447da8f6f0b2b5f643f8e": {
     "model_module": "@jupyter-widgets/controls",
     "model_module_version": "1.5.0",
     "model_name": "HBoxModel",
     "state": {
      "_dom_classes": [],
      "_model_module": "@jupyter-widgets/controls",
      "_model_module_version": "1.5.0",
      "_model_name": "HBoxModel",
      "_view_count": null,
      "_view_module": "@jupyter-widgets/controls",
      "_view_module_version": "1.5.0",
      "_view_name": "HBoxView",
      "box_style": "",
      "children": [
       "IPY_MODEL_760ebc3582744da888e7997e70dcf9fc",
       "IPY_MODEL_bd4ddbe788644239a571687dc49a885a",
       "IPY_MODEL_13811e4aed2f404485d5a9c1c0e8f977"
      ],
      "layout": "IPY_MODEL_0d9e56d789ca45569de685dd84708465"
     }
    },
    "b259585e738e46b3802d1d196aad5f46": {
     "model_module": "@jupyter-widgets/base",
     "model_module_version": "1.2.0",
     "model_name": "LayoutModel",
     "state": {
      "_model_module": "@jupyter-widgets/base",
      "_model_module_version": "1.2.0",
      "_model_name": "LayoutModel",
      "_view_count": null,
      "_view_module": "@jupyter-widgets/base",
      "_view_module_version": "1.2.0",
      "_view_name": "LayoutView",
      "align_content": null,
      "align_items": null,
      "align_self": null,
      "border": null,
      "bottom": null,
      "display": null,
      "flex": null,
      "flex_flow": null,
      "grid_area": null,
      "grid_auto_columns": null,
      "grid_auto_flow": null,
      "grid_auto_rows": null,
      "grid_column": null,
      "grid_gap": null,
      "grid_row": null,
      "grid_template_areas": null,
      "grid_template_columns": null,
      "grid_template_rows": null,
      "height": null,
      "justify_content": null,
      "justify_items": null,
      "left": null,
      "margin": null,
      "max_height": null,
      "max_width": null,
      "min_height": null,
      "min_width": null,
      "object_fit": null,
      "object_position": null,
      "order": null,
      "overflow": null,
      "overflow_x": null,
      "overflow_y": null,
      "padding": null,
      "right": null,
      "top": null,
      "visibility": null,
      "width": null
     }
    },
    "b8b7ae1bd9f6492082521a001cb9c784": {
     "model_module": "@jupyter-widgets/controls",
     "model_module_version": "1.5.0",
     "model_name": "HTMLModel",
     "state": {
      "_dom_classes": [],
      "_model_module": "@jupyter-widgets/controls",
      "_model_module_version": "1.5.0",
      "_model_name": "HTMLModel",
      "_view_count": null,
      "_view_module": "@jupyter-widgets/controls",
      "_view_module_version": "1.5.0",
      "_view_name": "HTMLView",
      "description": "",
      "description_tooltip": null,
      "layout": "IPY_MODEL_01d614746ae94433aef25e282f7d1607",
      "placeholder": "​",
      "style": "IPY_MODEL_d2126a6f15ed43b8b22f774c2dca2dee",
      "value": " 7/7 [00:01&lt;00:00,  4.52it/s]"
     }
    },
    "b995a1a5a3544e09a46d4d7f04ed0f73": {
     "model_module": "@jupyter-widgets/base",
     "model_module_version": "1.2.0",
     "model_name": "LayoutModel",
     "state": {
      "_model_module": "@jupyter-widgets/base",
      "_model_module_version": "1.2.0",
      "_model_name": "LayoutModel",
      "_view_count": null,
      "_view_module": "@jupyter-widgets/base",
      "_view_module_version": "1.2.0",
      "_view_name": "LayoutView",
      "align_content": null,
      "align_items": null,
      "align_self": null,
      "border": null,
      "bottom": null,
      "display": null,
      "flex": null,
      "flex_flow": null,
      "grid_area": null,
      "grid_auto_columns": null,
      "grid_auto_flow": null,
      "grid_auto_rows": null,
      "grid_column": null,
      "grid_gap": null,
      "grid_row": null,
      "grid_template_areas": null,
      "grid_template_columns": null,
      "grid_template_rows": null,
      "height": null,
      "justify_content": null,
      "justify_items": null,
      "left": null,
      "margin": null,
      "max_height": null,
      "max_width": null,
      "min_height": null,
      "min_width": null,
      "object_fit": null,
      "object_position": null,
      "order": null,
      "overflow": null,
      "overflow_x": null,
      "overflow_y": null,
      "padding": null,
      "right": null,
      "top": null,
      "visibility": null,
      "width": null
     }
    },
    "bd4ddbe788644239a571687dc49a885a": {
     "model_module": "@jupyter-widgets/controls",
     "model_module_version": "1.5.0",
     "model_name": "FloatProgressModel",
     "state": {
      "_dom_classes": [],
      "_model_module": "@jupyter-widgets/controls",
      "_model_module_version": "1.5.0",
      "_model_name": "FloatProgressModel",
      "_view_count": null,
      "_view_module": "@jupyter-widgets/controls",
      "_view_module_version": "1.5.0",
      "_view_name": "ProgressView",
      "bar_style": "success",
      "description": "",
      "description_tooltip": null,
      "layout": "IPY_MODEL_d858569cd8e948808dd3a53146e8e6e3",
      "max": 363,
      "min": 0,
      "orientation": "horizontal",
      "style": "IPY_MODEL_f5833336c38e4ead938ed02ea4533bc8",
      "value": 363
     }
    },
    "bdec30b1402647419094a28c8fc3608d": {
     "model_module": "@jupyter-widgets/controls",
     "model_module_version": "1.5.0",
     "model_name": "DescriptionStyleModel",
     "state": {
      "_model_module": "@jupyter-widgets/controls",
      "_model_module_version": "1.5.0",
      "_model_name": "DescriptionStyleModel",
      "_view_count": null,
      "_view_module": "@jupyter-widgets/base",
      "_view_module_version": "1.2.0",
      "_view_name": "StyleView",
      "description_width": ""
     }
    },
    "c2e554eb47f546168a20bb3c97f99557": {
     "model_module": "@jupyter-widgets/controls",
     "model_module_version": "1.5.0",
     "model_name": "ProgressStyleModel",
     "state": {
      "_model_module": "@jupyter-widgets/controls",
      "_model_module_version": "1.5.0",
      "_model_name": "ProgressStyleModel",
      "_view_count": null,
      "_view_module": "@jupyter-widgets/base",
      "_view_module_version": "1.2.0",
      "_view_name": "StyleView",
      "bar_color": null,
      "description_width": ""
     }
    },
    "c5a7cf3a1775412089e20f0121254180": {
     "model_module": "@jupyter-widgets/controls",
     "model_module_version": "1.5.0",
     "model_name": "HTMLModel",
     "state": {
      "_dom_classes": [],
      "_model_module": "@jupyter-widgets/controls",
      "_model_module_version": "1.5.0",
      "_model_name": "HTMLModel",
      "_view_count": null,
      "_view_module": "@jupyter-widgets/controls",
      "_view_module_version": "1.5.0",
      "_view_name": "HTMLView",
      "description": "",
      "description_tooltip": null,
      "layout": "IPY_MODEL_cbd2917aaad6479184583e40045f4018",
      "placeholder": "​",
      "style": "IPY_MODEL_415869dcdbfc4b059c4a33f8ffed1e4b",
      "value": " 1.36M/1.36M [00:00&lt;00:00, 7.71MB/s]"
     }
    },
    "c613ce9edf6c4acc9d82df387984f775": {
     "model_module": "@jupyter-widgets/controls",
     "model_module_version": "1.5.0",
     "model_name": "ProgressStyleModel",
     "state": {
      "_model_module": "@jupyter-widgets/controls",
      "_model_module_version": "1.5.0",
      "_model_name": "ProgressStyleModel",
      "_view_count": null,
      "_view_module": "@jupyter-widgets/base",
      "_view_module_version": "1.2.0",
      "_view_name": "StyleView",
      "bar_color": null,
      "description_width": ""
     }
    },
    "cb8aef947cc449beaee578daf8ac4f53": {
     "model_module": "@jupyter-widgets/base",
     "model_module_version": "1.2.0",
     "model_name": "LayoutModel",
     "state": {
      "_model_module": "@jupyter-widgets/base",
      "_model_module_version": "1.2.0",
      "_model_name": "LayoutModel",
      "_view_count": null,
      "_view_module": "@jupyter-widgets/base",
      "_view_module_version": "1.2.0",
      "_view_name": "LayoutView",
      "align_content": null,
      "align_items": null,
      "align_self": null,
      "border": null,
      "bottom": null,
      "display": null,
      "flex": null,
      "flex_flow": null,
      "grid_area": null,
      "grid_auto_columns": null,
      "grid_auto_flow": null,
      "grid_auto_rows": null,
      "grid_column": null,
      "grid_gap": null,
      "grid_row": null,
      "grid_template_areas": null,
      "grid_template_columns": null,
      "grid_template_rows": null,
      "height": null,
      "justify_content": null,
      "justify_items": null,
      "left": null,
      "margin": null,
      "max_height": null,
      "max_width": null,
      "min_height": null,
      "min_width": null,
      "object_fit": null,
      "object_position": null,
      "order": null,
      "overflow": null,
      "overflow_x": null,
      "overflow_y": null,
      "padding": null,
      "right": null,
      "top": null,
      "visibility": null,
      "width": null
     }
    },
    "cbd2917aaad6479184583e40045f4018": {
     "model_module": "@jupyter-widgets/base",
     "model_module_version": "1.2.0",
     "model_name": "LayoutModel",
     "state": {
      "_model_module": "@jupyter-widgets/base",
      "_model_module_version": "1.2.0",
      "_model_name": "LayoutModel",
      "_view_count": null,
      "_view_module": "@jupyter-widgets/base",
      "_view_module_version": "1.2.0",
      "_view_name": "LayoutView",
      "align_content": null,
      "align_items": null,
      "align_self": null,
      "border": null,
      "bottom": null,
      "display": null,
      "flex": null,
      "flex_flow": null,
      "grid_area": null,
      "grid_auto_columns": null,
      "grid_auto_flow": null,
      "grid_auto_rows": null,
      "grid_column": null,
      "grid_gap": null,
      "grid_row": null,
      "grid_template_areas": null,
      "grid_template_columns": null,
      "grid_template_rows": null,
      "height": null,
      "justify_content": null,
      "justify_items": null,
      "left": null,
      "margin": null,
      "max_height": null,
      "max_width": null,
      "min_height": null,
      "min_width": null,
      "object_fit": null,
      "object_position": null,
      "order": null,
      "overflow": null,
      "overflow_x": null,
      "overflow_y": null,
      "padding": null,
      "right": null,
      "top": null,
      "visibility": null,
      "width": null
     }
    },
    "cbfbce3468f4495e8d71939f1649018a": {
     "model_module": "@jupyter-widgets/base",
     "model_module_version": "1.2.0",
     "model_name": "LayoutModel",
     "state": {
      "_model_module": "@jupyter-widgets/base",
      "_model_module_version": "1.2.0",
      "_model_name": "LayoutModel",
      "_view_count": null,
      "_view_module": "@jupyter-widgets/base",
      "_view_module_version": "1.2.0",
      "_view_name": "LayoutView",
      "align_content": null,
      "align_items": null,
      "align_self": null,
      "border": null,
      "bottom": null,
      "display": null,
      "flex": null,
      "flex_flow": null,
      "grid_area": null,
      "grid_auto_columns": null,
      "grid_auto_flow": null,
      "grid_auto_rows": null,
      "grid_column": null,
      "grid_gap": null,
      "grid_row": null,
      "grid_template_areas": null,
      "grid_template_columns": null,
      "grid_template_rows": null,
      "height": null,
      "justify_content": null,
      "justify_items": null,
      "left": null,
      "margin": null,
      "max_height": null,
      "max_width": null,
      "min_height": null,
      "min_width": null,
      "object_fit": null,
      "object_position": null,
      "order": null,
      "overflow": null,
      "overflow_x": null,
      "overflow_y": null,
      "padding": null,
      "right": null,
      "top": null,
      "visibility": null,
      "width": null
     }
    },
    "d2126a6f15ed43b8b22f774c2dca2dee": {
     "model_module": "@jupyter-widgets/controls",
     "model_module_version": "1.5.0",
     "model_name": "DescriptionStyleModel",
     "state": {
      "_model_module": "@jupyter-widgets/controls",
      "_model_module_version": "1.5.0",
      "_model_name": "DescriptionStyleModel",
      "_view_count": null,
      "_view_module": "@jupyter-widgets/base",
      "_view_module_version": "1.2.0",
      "_view_name": "StyleView",
      "description_width": ""
     }
    },
    "d858569cd8e948808dd3a53146e8e6e3": {
     "model_module": "@jupyter-widgets/base",
     "model_module_version": "1.2.0",
     "model_name": "LayoutModel",
     "state": {
      "_model_module": "@jupyter-widgets/base",
      "_model_module_version": "1.2.0",
      "_model_name": "LayoutModel",
      "_view_count": null,
      "_view_module": "@jupyter-widgets/base",
      "_view_module_version": "1.2.0",
      "_view_name": "LayoutView",
      "align_content": null,
      "align_items": null,
      "align_self": null,
      "border": null,
      "bottom": null,
      "display": null,
      "flex": null,
      "flex_flow": null,
      "grid_area": null,
      "grid_auto_columns": null,
      "grid_auto_flow": null,
      "grid_auto_rows": null,
      "grid_column": null,
      "grid_gap": null,
      "grid_row": null,
      "grid_template_areas": null,
      "grid_template_columns": null,
      "grid_template_rows": null,
      "height": null,
      "justify_content": null,
      "justify_items": null,
      "left": null,
      "margin": null,
      "max_height": null,
      "max_width": null,
      "min_height": null,
      "min_width": null,
      "object_fit": null,
      "object_position": null,
      "order": null,
      "overflow": null,
      "overflow_x": null,
      "overflow_y": null,
      "padding": null,
      "right": null,
      "top": null,
      "visibility": null,
      "width": null
     }
    },
    "d9994bd9c38845668fc6e350996b7800": {
     "model_module": "@jupyter-widgets/base",
     "model_module_version": "1.2.0",
     "model_name": "LayoutModel",
     "state": {
      "_model_module": "@jupyter-widgets/base",
      "_model_module_version": "1.2.0",
      "_model_name": "LayoutModel",
      "_view_count": null,
      "_view_module": "@jupyter-widgets/base",
      "_view_module_version": "1.2.0",
      "_view_name": "LayoutView",
      "align_content": null,
      "align_items": null,
      "align_self": null,
      "border": null,
      "bottom": null,
      "display": null,
      "flex": null,
      "flex_flow": null,
      "grid_area": null,
      "grid_auto_columns": null,
      "grid_auto_flow": null,
      "grid_auto_rows": null,
      "grid_column": null,
      "grid_gap": null,
      "grid_row": null,
      "grid_template_areas": null,
      "grid_template_columns": null,
      "grid_template_rows": null,
      "height": null,
      "justify_content": null,
      "justify_items": null,
      "left": null,
      "margin": null,
      "max_height": null,
      "max_width": null,
      "min_height": null,
      "min_width": null,
      "object_fit": null,
      "object_position": null,
      "order": null,
      "overflow": null,
      "overflow_x": null,
      "overflow_y": null,
      "padding": null,
      "right": null,
      "top": null,
      "visibility": null,
      "width": null
     }
    },
    "db1a8c9d21c049398557052e760ea6fb": {
     "model_module": "@jupyter-widgets/base",
     "model_module_version": "1.2.0",
     "model_name": "LayoutModel",
     "state": {
      "_model_module": "@jupyter-widgets/base",
      "_model_module_version": "1.2.0",
      "_model_name": "LayoutModel",
      "_view_count": null,
      "_view_module": "@jupyter-widgets/base",
      "_view_module_version": "1.2.0",
      "_view_name": "LayoutView",
      "align_content": null,
      "align_items": null,
      "align_self": null,
      "border": null,
      "bottom": null,
      "display": null,
      "flex": null,
      "flex_flow": null,
      "grid_area": null,
      "grid_auto_columns": null,
      "grid_auto_flow": null,
      "grid_auto_rows": null,
      "grid_column": null,
      "grid_gap": null,
      "grid_row": null,
      "grid_template_areas": null,
      "grid_template_columns": null,
      "grid_template_rows": null,
      "height": null,
      "justify_content": null,
      "justify_items": null,
      "left": null,
      "margin": null,
      "max_height": null,
      "max_width": null,
      "min_height": null,
      "min_width": null,
      "object_fit": null,
      "object_position": null,
      "order": null,
      "overflow": null,
      "overflow_x": null,
      "overflow_y": null,
      "padding": null,
      "right": null,
      "top": null,
      "visibility": null,
      "width": null
     }
    },
    "dc4205e9b2dc4f4db07c5028d25ed3a1": {
     "model_module": "@jupyter-widgets/controls",
     "model_module_version": "1.5.0",
     "model_name": "DescriptionStyleModel",
     "state": {
      "_model_module": "@jupyter-widgets/controls",
      "_model_module_version": "1.5.0",
      "_model_name": "DescriptionStyleModel",
      "_view_count": null,
      "_view_module": "@jupyter-widgets/base",
      "_view_module_version": "1.2.0",
      "_view_name": "StyleView",
      "description_width": ""
     }
    },
    "e3ea407379c148479ec44004152e4548": {
     "model_module": "@jupyter-widgets/controls",
     "model_module_version": "1.5.0",
     "model_name": "DescriptionStyleModel",
     "state": {
      "_model_module": "@jupyter-widgets/controls",
      "_model_module_version": "1.5.0",
      "_model_name": "DescriptionStyleModel",
      "_view_count": null,
      "_view_module": "@jupyter-widgets/base",
      "_view_module_version": "1.2.0",
      "_view_name": "StyleView",
      "description_width": ""
     }
    },
    "e5704807a07e45c280ccf840283cb203": {
     "model_module": "@jupyter-widgets/controls",
     "model_module_version": "1.5.0",
     "model_name": "HBoxModel",
     "state": {
      "_dom_classes": [],
      "_model_module": "@jupyter-widgets/controls",
      "_model_module_version": "1.5.0",
      "_model_name": "HBoxModel",
      "_view_count": null,
      "_view_module": "@jupyter-widgets/controls",
      "_view_module_version": "1.5.0",
      "_view_name": "HBoxView",
      "box_style": "",
      "children": [
       "IPY_MODEL_4612c111966341039fbd5f1b201b489b",
       "IPY_MODEL_21fe9ae5276e48b48c7baad87dbfcb2f",
       "IPY_MODEL_fa769b5fc9bd4ad889b1b1be7ce9782d"
      ],
      "layout": "IPY_MODEL_706bf3d155b84134aa8bc234b46f040d"
     }
    },
    "e7134bfbb2de4af08fa0f4c84f8599b6": {
     "model_module": "@jupyter-widgets/controls",
     "model_module_version": "1.5.0",
     "model_name": "HTMLModel",
     "state": {
      "_dom_classes": [],
      "_model_module": "@jupyter-widgets/controls",
      "_model_module_version": "1.5.0",
      "_model_name": "HTMLModel",
      "_view_count": null,
      "_view_module": "@jupyter-widgets/controls",
      "_view_module_version": "1.5.0",
      "_view_name": "HTMLView",
      "description": "",
      "description_tooltip": null,
      "layout": "IPY_MODEL_cbfbce3468f4495e8d71939f1649018a",
      "placeholder": "​",
      "style": "IPY_MODEL_dc4205e9b2dc4f4db07c5028d25ed3a1",
      "value": "model.safetensors: 100%"
     }
    },
    "e72b5324fcc046f78235de5e1d586ee3": {
     "model_module": "@jupyter-widgets/controls",
     "model_module_version": "1.5.0",
     "model_name": "DescriptionStyleModel",
     "state": {
      "_model_module": "@jupyter-widgets/controls",
      "_model_module_version": "1.5.0",
      "_model_name": "DescriptionStyleModel",
      "_view_count": null,
      "_view_module": "@jupyter-widgets/base",
      "_view_module_version": "1.2.0",
      "_view_name": "StyleView",
      "description_width": ""
     }
    },
    "ed227755d8a6407d985aa484f578a7cf": {
     "model_module": "@jupyter-widgets/controls",
     "model_module_version": "1.5.0",
     "model_name": "DescriptionStyleModel",
     "state": {
      "_model_module": "@jupyter-widgets/controls",
      "_model_module_version": "1.5.0",
      "_model_name": "DescriptionStyleModel",
      "_view_count": null,
      "_view_module": "@jupyter-widgets/base",
      "_view_module_version": "1.2.0",
      "_view_name": "StyleView",
      "description_width": ""
     }
    },
    "f423b1669a7c4b8d85cb356780024b99": {
     "model_module": "@jupyter-widgets/controls",
     "model_module_version": "1.5.0",
     "model_name": "FloatProgressModel",
     "state": {
      "_dom_classes": [],
      "_model_module": "@jupyter-widgets/controls",
      "_model_module_version": "1.5.0",
      "_model_name": "FloatProgressModel",
      "_view_count": null,
      "_view_module": "@jupyter-widgets/controls",
      "_view_module_version": "1.5.0",
      "_view_name": "ProgressView",
      "bar_style": "success",
      "description": "",
      "description_tooltip": null,
      "layout": "IPY_MODEL_fe2815e7996d41fbb3e991d2a000e322",
      "max": 7,
      "min": 0,
      "orientation": "horizontal",
      "style": "IPY_MODEL_9928a1158ebd4cf2a4de95f2c9e19b90",
      "value": 7
     }
    },
    "f5833336c38e4ead938ed02ea4533bc8": {
     "model_module": "@jupyter-widgets/controls",
     "model_module_version": "1.5.0",
     "model_name": "ProgressStyleModel",
     "state": {
      "_model_module": "@jupyter-widgets/controls",
      "_model_module_version": "1.5.0",
      "_model_name": "ProgressStyleModel",
      "_view_count": null,
      "_view_module": "@jupyter-widgets/base",
      "_view_module_version": "1.2.0",
      "_view_name": "StyleView",
      "bar_color": null,
      "description_width": ""
     }
    },
    "fa769b5fc9bd4ad889b1b1be7ce9782d": {
     "model_module": "@jupyter-widgets/controls",
     "model_module_version": "1.5.0",
     "model_name": "HTMLModel",
     "state": {
      "_dom_classes": [],
      "_model_module": "@jupyter-widgets/controls",
      "_model_module_version": "1.5.0",
      "_model_name": "HTMLModel",
      "_view_count": null,
      "_view_module": "@jupyter-widgets/controls",
      "_view_module_version": "1.5.0",
      "_view_name": "HTMLView",
      "description": "",
      "description_tooltip": null,
      "layout": "IPY_MODEL_7bee7c8107c44d5481e34b7f7fe06e57",
      "placeholder": "​",
      "style": "IPY_MODEL_9677ddc915ee40cea88d06bdc4318930",
      "value": " 1.58k/1.58k [00:00&lt;00:00, 64.2kB/s]"
     }
    },
    "fca2484e1abb4ac2b1edae99d2588c84": {
     "model_module": "@jupyter-widgets/base",
     "model_module_version": "1.2.0",
     "model_name": "LayoutModel",
     "state": {
      "_model_module": "@jupyter-widgets/base",
      "_model_module_version": "1.2.0",
      "_model_name": "LayoutModel",
      "_view_count": null,
      "_view_module": "@jupyter-widgets/base",
      "_view_module_version": "1.2.0",
      "_view_name": "LayoutView",
      "align_content": null,
      "align_items": null,
      "align_self": null,
      "border": null,
      "bottom": null,
      "display": null,
      "flex": null,
      "flex_flow": null,
      "grid_area": null,
      "grid_auto_columns": null,
      "grid_auto_flow": null,
      "grid_auto_rows": null,
      "grid_column": null,
      "grid_gap": null,
      "grid_row": null,
      "grid_template_areas": null,
      "grid_template_columns": null,
      "grid_template_rows": null,
      "height": null,
      "justify_content": null,
      "justify_items": null,
      "left": null,
      "margin": null,
      "max_height": null,
      "max_width": null,
      "min_height": null,
      "min_width": null,
      "object_fit": null,
      "object_position": null,
      "order": null,
      "overflow": null,
      "overflow_x": null,
      "overflow_y": null,
      "padding": null,
      "right": null,
      "top": null,
      "visibility": null,
      "width": null
     }
    },
    "fe2815e7996d41fbb3e991d2a000e322": {
     "model_module": "@jupyter-widgets/base",
     "model_module_version": "1.2.0",
     "model_name": "LayoutModel",
     "state": {
      "_model_module": "@jupyter-widgets/base",
      "_model_module_version": "1.2.0",
      "_model_name": "LayoutModel",
      "_view_count": null,
      "_view_module": "@jupyter-widgets/base",
      "_view_module_version": "1.2.0",
      "_view_name": "LayoutView",
      "align_content": null,
      "align_items": null,
      "align_self": null,
      "border": null,
      "bottom": null,
      "display": null,
      "flex": null,
      "flex_flow": null,
      "grid_area": null,
      "grid_auto_columns": null,
      "grid_auto_flow": null,
      "grid_auto_rows": null,
      "grid_column": null,
      "grid_gap": null,
      "grid_row": null,
      "grid_template_areas": null,
      "grid_template_columns": null,
      "grid_template_rows": null,
      "height": null,
      "justify_content": null,
      "justify_items": null,
      "left": null,
      "margin": null,
      "max_height": null,
      "max_width": null,
      "min_height": null,
      "min_width": null,
      "object_fit": null,
      "object_position": null,
      "order": null,
      "overflow": null,
      "overflow_x": null,
      "overflow_y": null,
      "padding": null,
      "right": null,
      "top": null,
      "visibility": null,
      "width": null
     }
    },
    "ff47a036dbb14f4398bb53fb0d0988f5": {
     "model_module": "@jupyter-widgets/controls",
     "model_module_version": "1.5.0",
     "model_name": "HBoxModel",
     "state": {
      "_dom_classes": [],
      "_model_module": "@jupyter-widgets/controls",
      "_model_module_version": "1.5.0",
      "_model_name": "HBoxModel",
      "_view_count": null,
      "_view_module": "@jupyter-widgets/controls",
      "_view_module_version": "1.5.0",
      "_view_name": "HBoxView",
      "box_style": "",
      "children": [
       "IPY_MODEL_453e93d40d4a40f0beb084b1a43f585d",
       "IPY_MODEL_556835131de640eba2c2103ae985869b",
       "IPY_MODEL_955a077468af4f77ac17cb885b06cdae"
      ],
      "layout": "IPY_MODEL_b995a1a5a3544e09a46d4d7f04ed0f73"
     }
    }
   }
  }
 },
 "nbformat": 4,
 "nbformat_minor": 4
}
